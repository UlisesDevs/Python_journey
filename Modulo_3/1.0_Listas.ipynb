{
 "cells": [
  {
   "cell_type": "markdown",
   "id": "09ea9bc4",
   "metadata": {},
   "source": [
    "## Listas"
   ]
  },
  {
   "cell_type": "markdown",
   "id": "44915d41",
   "metadata": {},
   "source": [
    "En Python, una variable puede almacenar distintos tipos de datos, y además\n",
    "podemos reasignarle un tipo de dato diferente.\n",
    "\n",
    "Ejemplo:\n",
    "    x = 10        # entero\n",
    "    x = \"texto\"   # ahora es string\n",
    "\n",
    "Pero... ¿qué pasa si queremos almacenar varios valores relacionados?  \n",
    "Por ejemplo, una lista de nombres de mascotas.  \n",
    "Podríamos hacerlo así:\n",
    "\n",
    "    perro1 = \"Solovino\"\n",
    "    perro2 = \"Firulais\"\n",
    "\n",
    "Pero eso se vuelve poco práctico si tenemos muchas mascotas.  \n",
    "Para resolver esto, Python nos da las **listas**:\n",
    "\n",
    "    Una lista es una colección ordenada de datos almacenada en una sola variable."
   ]
  },
  {
   "cell_type": "code",
   "execution_count": 1,
   "id": "7ab1752c",
   "metadata": {},
   "outputs": [
    {
     "data": {
      "text/plain": [
       "['Solovino', 'Firulais', 'Pedro', 'Cheems', 'Doge']"
      ]
     },
     "execution_count": 1,
     "metadata": {},
     "output_type": "execute_result"
    }
   ],
   "source": [
    "[\"Solovino\", \"Firulais\", \"Pedro\", \"Cheems\", \"Doge\"]"
   ]
  },
  {
   "cell_type": "markdown",
   "id": "e10411c1",
   "metadata": {},
   "source": [
    "#### Sintaxis de una lista"
   ]
  },
  {
   "cell_type": "markdown",
   "id": "12df6a10",
   "metadata": {},
   "source": [
    "- Se escribe entre corchetes: [ ].\n",
    "- Puede contener datos de un solo tipo o de tipos mezclados:\n",
    "    [True, False, 1, 2, \"texto\", 2.5]\n",
    "\n",
    "- Generalmente, guardamos la lista en una variable para trabajar con ella:\n",
    "\n",
    "    `mascotas = [\"Solovino\", \"Firulais\", \"Pedro\", \"Cheems\", \"Doge\"]`\n",
    "\n",
    "- Las listas se organizan por **índices**:\n",
    "\n",
    "    - El índice empieza desde 0 (no desde 1).\n",
    "    - Ejemplo: en la lista anterior:\n",
    "    \n",
    "        \"Solovino\" está en el índice 0\n",
    "        \n",
    "        \"Doge\" está en el índice 4\n",
    "\n",
    "- Cada lista tiene una **longitud** (cantidad de elementos).\n",
    "  Se obtiene con la función `len()`."
   ]
  },
  {
   "cell_type": "code",
   "execution_count": 2,
   "id": "ffc18596",
   "metadata": {},
   "outputs": [
    {
     "name": "stdout",
     "output_type": "stream",
     "text": [
      "Lista de mascotas completa: ['Solovino', 'Firulais', 'Pedro', 'Cheems', 'Doge']\n"
     ]
    }
   ],
   "source": [
    "# Declaramos nuestra lista\n",
    "mascotas = [\"Solovino\", \"Firulais\", \"Pedro\", \"Cheems\", \"Doge\"]\n",
    "\n",
    "print(\"Lista de mascotas completa:\", mascotas)"
   ]
  },
  {
   "cell_type": "markdown",
   "id": "4b9af7b0",
   "metadata": {},
   "source": [
    "#### Acceder a elementos de la lista"
   ]
  },
  {
   "cell_type": "markdown",
   "id": "9e5691a3",
   "metadata": {},
   "source": [
    "Para acceder a un elemento, usamos su índice entre corchetes."
   ]
  },
  {
   "cell_type": "code",
   "execution_count": 3,
   "id": "c07b8b59",
   "metadata": {},
   "outputs": [
    {
     "name": "stdout",
     "output_type": "stream",
     "text": [
      "Mascota en el índice 0: Solovino\n",
      "Mascota en el índice 4: Doge\n"
     ]
    }
   ],
   "source": [
    "print(\"Mascota en el índice 0:\", mascotas[0])\n",
    "print(\"Mascota en el índice 4:\", mascotas[4])"
   ]
  },
  {
   "cell_type": "markdown",
   "id": "082847eb",
   "metadata": {},
   "source": [
    "#### Longitud de una lista"
   ]
  },
  {
   "cell_type": "markdown",
   "id": "bbe68cd1",
   "metadata": {},
   "source": [
    "La función `len()` devuelve la cantidad de elementos en la lista.\n",
    "\n",
    "Nota: La lonitud no tiene que ver con los indices, los indices son la posición que tienen los elementos dentro de nuestra lista, la longitud es la cantidad total de elementos en ella."
   ]
  },
  {
   "cell_type": "code",
   "execution_count": 4,
   "id": "9abd5952",
   "metadata": {},
   "outputs": [
    {
     "name": "stdout",
     "output_type": "stream",
     "text": [
      "La longitud de la lista es: 5\n"
     ]
    }
   ],
   "source": [
    "print(\"La longitud de la lista es:\", len(mascotas))"
   ]
  },
  {
   "cell_type": "markdown",
   "id": "b840d4ae",
   "metadata": {},
   "source": [
    "#### Actualizar un valor en la lista (indexación)"
   ]
  },
  {
   "cell_type": "markdown",
   "id": "d100112a",
   "metadata": {},
   "source": [
    "Podemos cambiar el valor de un índice en específico."
   ]
  },
  {
   "cell_type": "code",
   "execution_count": 5,
   "id": "2630b1c9",
   "metadata": {},
   "outputs": [
    {
     "name": "stdout",
     "output_type": "stream",
     "text": [
      "Lista con el índice 1 actualizado: ['Solovino', 'Grumpy', 'Pedro', 'Cheems', 'Doge']\n"
     ]
    }
   ],
   "source": [
    "mascotas[1] = \"Grumpy\"\n",
    "print(\"Lista con el índice 1 actualizado:\", mascotas)"
   ]
  },
  {
   "cell_type": "code",
   "execution_count": 6,
   "id": "d8b38f27",
   "metadata": {},
   "outputs": [
    {
     "name": "stdout",
     "output_type": "stream",
     "text": [
      "Lista con el índice 0 copiado del índice 4: ['Doge', 'Grumpy', 'Pedro', 'Cheems', 'Doge']\n"
     ]
    }
   ],
   "source": [
    "# Copiar el valor de un índice a otro\n",
    "mascotas[0] = mascotas[4]\n",
    "print(\"Lista con el índice 0 copiado del índice 4:\", mascotas)"
   ]
  },
  {
   "cell_type": "markdown",
   "id": "4c887100",
   "metadata": {},
   "source": [
    "A este proceso de modificar elementos de la lista mediante su índice\n",
    "se le llama **indexación**."
   ]
  },
  {
   "cell_type": "markdown",
   "id": "444a480a",
   "metadata": {},
   "source": [
    "#### Eliminar elementos"
   ]
  },
  {
   "cell_type": "markdown",
   "id": "96587254",
   "metadata": {},
   "source": [
    "Podemos eliminar un elemento con la palabra reservada `del`.\n",
    "Esto hace que los índices y la longitud cambien."
   ]
  },
  {
   "cell_type": "code",
   "execution_count": 7,
   "id": "7e80c1e2",
   "metadata": {},
   "outputs": [
    {
     "name": "stdout",
     "output_type": "stream",
     "text": [
      "Lista con el índice 0 borrado: ['Grumpy', 'Pedro', 'Cheems', 'Doge']\n",
      "Ahora el nuevo índice 0 es: Grumpy\n",
      "La nueva longitud de la lista es: 4\n"
     ]
    }
   ],
   "source": [
    "del mascotas[0]\n",
    "print(\"Lista con el índice 0 borrado:\", mascotas)\n",
    "print(\"Ahora el nuevo índice 0 es:\", mascotas[0])\n",
    "print(\"La nueva longitud de la lista es:\", len(mascotas))"
   ]
  },
  {
   "cell_type": "markdown",
   "id": "d03e0035",
   "metadata": {},
   "source": [
    "#### Índices negativos"
   ]
  },
  {
   "cell_type": "markdown",
   "id": "d015298a",
   "metadata": {},
   "source": [
    "En Python, los índices también pueden ser negativos.\n",
    "Esto permite acceder a los elementos desde el final de la lista:\n",
    "\n",
    "    -1 → último elemento\n",
    "    -2 → penúltimo elemento\n",
    "    -3 → antepenúltimo elemento"
   ]
  },
  {
   "cell_type": "code",
   "execution_count": 8,
   "id": "d9de4ab3",
   "metadata": {},
   "outputs": [
    {
     "name": "stdout",
     "output_type": "stream",
     "text": [
      "El último elemento de la lista es: Doge\n",
      "El penúltimo elemento de la lista es: Cheems\n"
     ]
    }
   ],
   "source": [
    "print(\"El último elemento de la lista es:\", mascotas[-1])\n",
    "print(\"El penúltimo elemento de la lista es:\", mascotas[-2])"
   ]
  }
 ],
 "metadata": {
  "kernelspec": {
   "display_name": "venv",
   "language": "python",
   "name": "python3"
  },
  "language_info": {
   "codemirror_mode": {
    "name": "ipython",
    "version": 3
   },
   "file_extension": ".py",
   "mimetype": "text/x-python",
   "name": "python",
   "nbconvert_exporter": "python",
   "pygments_lexer": "ipython3",
   "version": "3.12.3"
  }
 },
 "nbformat": 4,
 "nbformat_minor": 5
}
