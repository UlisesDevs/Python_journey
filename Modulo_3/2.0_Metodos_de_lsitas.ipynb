{
 "cells": [
  {
   "cell_type": "markdown",
   "id": "60d160dc",
   "metadata": {},
   "source": [
    "## Métodos de Listas en Python"
   ]
  },
  {
   "cell_type": "markdown",
   "id": "8552c919",
   "metadata": {},
   "source": [
    "¿Qué es un método?\n",
    "Un método es una acción que está asociada a un objeto.  \n",
    "En el caso de las listas, los métodos se invocan con la notación de punto:\n",
    "\n",
    "    lista.metodo(argumentos)\n",
    "\n",
    "Ejemplo:\n",
    "\n",
    "    mascotas.append(\"Trololocat\")"
   ]
  },
  {
   "cell_type": "markdown",
   "id": "8e56f747",
   "metadata": {},
   "source": [
    "#### `.append()`"
   ]
  },
  {
   "cell_type": "markdown",
   "id": "b8f2dd0b",
   "metadata": {},
   "source": [
    "El método `.append()` agrega un elemento al final de la lista."
   ]
  },
  {
   "cell_type": "code",
   "execution_count": 2,
   "id": "0b4a0237",
   "metadata": {},
   "outputs": [
    {
     "name": "stdout",
     "output_type": "stream",
     "text": [
      "Lista con elemento agregado al final: ['Solovino', 'Firulais', 'Pedro', 'Cheems', 'Doge', 'Trololocat']\n"
     ]
    }
   ],
   "source": [
    "mascotas = [\"Solovino\", \"Firulais\", \"Pedro\", \"Cheems\", \"Doge\"]\n",
    "mascotas.append(\"Trololocat\")\n",
    "print(\"Lista con elemento agregado al final:\", mascotas)"
   ]
  },
  {
   "cell_type": "markdown",
   "id": "ac34092f",
   "metadata": {},
   "source": [
    "#### `.insert()`"
   ]
  },
  {
   "cell_type": "markdown",
   "id": "c60efbd8",
   "metadata": {},
   "source": [
    "El método .insert() recibe dos argumentos:\n",
    "\n",
    "    1. El índice donde queremos insertar el nuevo elemento.\n",
    "    2. El elemento a insertar.\n",
    "\n",
    "    lista.insert(indice, elemento)"
   ]
  },
  {
   "cell_type": "code",
   "execution_count": 3,
   "id": "feb385a7",
   "metadata": {},
   "outputs": [
    {
     "name": "stdout",
     "output_type": "stream",
     "text": [
      "Lista con nuevo elemento insertado en índice 0: ['Paul', 'Solovino', 'Firulais', 'Pedro', 'Cheems', 'Doge', 'Trololocat']\n"
     ]
    }
   ],
   "source": [
    "mascotas.insert(0, \"Paul\")\n",
    "print(\"Lista con nuevo elemento insertado en índice 0:\", mascotas)"
   ]
  },
  {
   "cell_type": "markdown",
   "id": "09588a68",
   "metadata": {},
   "source": [
    "#### `.extend()`"
   ]
  },
  {
   "cell_type": "markdown",
   "id": "e746758d",
   "metadata": {},
   "source": [
    "El método `.extend()` agrega varios elementos (de otra lista o iterable) al final."
   ]
  },
  {
   "cell_type": "code",
   "execution_count": 4,
   "id": "ebaba002",
   "metadata": {},
   "outputs": [
    {
     "name": "stdout",
     "output_type": "stream",
     "text": [
      "Lista extendida con varios elementos: ['Paul', 'Solovino', 'Firulais', 'Pedro', 'Cheems', 'Doge', 'Trololocat', 'Garfield', 'Tom', 'Jerry']\n"
     ]
    }
   ],
   "source": [
    "mascotas.extend([\"Garfield\", \"Tom\", \"Jerry\"])\n",
    "print(\"Lista extendida con varios elementos:\", mascotas)"
   ]
  },
  {
   "cell_type": "markdown",
   "id": "a0915115",
   "metadata": {},
   "source": [
    "#### `.remove()`"
   ]
  },
  {
   "cell_type": "markdown",
   "id": "b9d85716",
   "metadata": {},
   "source": [
    "El método `.remove()` elimina el primer elemento que coincida con el valor indicado.\n",
    "\n",
    "Importante: si el valor no existe, lanza un error."
   ]
  },
  {
   "cell_type": "code",
   "execution_count": 5,
   "id": "5e5d06e7",
   "metadata": {},
   "outputs": [
    {
     "name": "stdout",
     "output_type": "stream",
     "text": [
      "Lista después de eliminar 'Pedro': ['Paul', 'Solovino', 'Firulais', 'Cheems', 'Doge', 'Trololocat', 'Garfield', 'Tom', 'Jerry']\n"
     ]
    }
   ],
   "source": [
    "mascotas.remove(\"Pedro\")\n",
    "print(\"Lista después de eliminar 'Pedro':\", mascotas)"
   ]
  },
  {
   "cell_type": "markdown",
   "id": "b31f3b09",
   "metadata": {},
   "source": [
    "#### `.pop()`"
   ]
  },
  {
   "cell_type": "markdown",
   "id": "12673799",
   "metadata": {},
   "source": [
    "El método `.pop()` elimina un elemento en un índice específico y lo devuelve.\n",
    "\n",
    "Si no se pasa índice, elimina el último."
   ]
  },
  {
   "cell_type": "code",
   "execution_count": 6,
   "id": "676bfcf2",
   "metadata": {},
   "outputs": [
    {
     "name": "stdout",
     "output_type": "stream",
     "text": [
      "Elemento eliminado con pop(): Jerry\n",
      "Lista después de pop(): ['Paul', 'Solovino', 'Firulais', 'Cheems', 'Doge', 'Trololocat', 'Garfield', 'Tom']\n"
     ]
    }
   ],
   "source": [
    "ultimo = mascotas.pop()\n",
    "print(\"Elemento eliminado con pop():\", ultimo)\n",
    "print(\"Lista después de pop():\", mascotas)"
   ]
  },
  {
   "cell_type": "code",
   "execution_count": 7,
   "id": "8c31b242",
   "metadata": {},
   "outputs": [
    {
     "name": "stdout",
     "output_type": "stream",
     "text": [
      "Elemento eliminado en índice 1: Solovino\n",
      "Lista después de eliminar índice 1: ['Paul', 'Firulais', 'Cheems', 'Doge', 'Trololocat', 'Garfield', 'Tom']\n"
     ]
    }
   ],
   "source": [
    "segundo = mascotas.pop(1)\n",
    "print(\"Elemento eliminado en índice 1:\", segundo)\n",
    "print(\"Lista después de eliminar índice 1:\", mascotas)"
   ]
  },
  {
   "cell_type": "markdown",
   "id": "1cdb9056",
   "metadata": {},
   "source": [
    "#### `.clear()`"
   ]
  },
  {
   "cell_type": "markdown",
   "id": "18d52eb1",
   "metadata": {},
   "source": [
    "El método `.clear()` elimina todos los elementos de la lista, dejándola vacía."
   ]
  },
  {
   "cell_type": "code",
   "execution_count": 8,
   "id": "7b5e8836",
   "metadata": {},
   "outputs": [
    {
     "name": "stdout",
     "output_type": "stream",
     "text": [
      "Lista después de clear(): []\n"
     ]
    }
   ],
   "source": [
    "temp = [\"a\", \"b\", \"c\"]\n",
    "temp.clear()\n",
    "print(\"Lista después de clear():\", temp)"
   ]
  },
  {
   "cell_type": "markdown",
   "id": "30e0cd0f",
   "metadata": {},
   "source": [
    "#### `.index()`"
   ]
  },
  {
   "cell_type": "markdown",
   "id": "5f6c6fdc",
   "metadata": {},
   "source": [
    "El método `.index()` devuelve el índice de la primera aparición de un valor.\n",
    "\n",
    "Opcionalmente puede recibir inicio y fin de búsqueda."
   ]
  },
  {
   "cell_type": "code",
   "execution_count": 9,
   "id": "5e1fd6ff",
   "metadata": {},
   "outputs": [
    {
     "name": "stdout",
     "output_type": "stream",
     "text": [
      "Índice de 'Firulais': 1\n"
     ]
    }
   ],
   "source": [
    "mascotas = [\"Solovino\", \"Firulais\", \"Cheems\", \"Doge\", \"Firulais\"]\n",
    "pos = mascotas.index(\"Firulais\")\n",
    "print(\"Índice de 'Firulais':\", pos)"
   ]
  },
  {
   "cell_type": "markdown",
   "id": "14d6eb7c",
   "metadata": {},
   "source": [
    "#### `.count()`"
   ]
  },
  {
   "cell_type": "markdown",
   "id": "eae70d91",
   "metadata": {},
   "source": [
    "El método `.count()` devuelve cuántas veces aparece un valor en la lista."
   ]
  },
  {
   "cell_type": "code",
   "execution_count": 10,
   "id": "ce3c8215",
   "metadata": {},
   "outputs": [
    {
     "name": "stdout",
     "output_type": "stream",
     "text": [
      "Número de veces que aparece 'Firulais': 2\n"
     ]
    }
   ],
   "source": [
    "num_firu = mascotas.count(\"Firulais\")\n",
    "print(\"Número de veces que aparece 'Firulais':\", num_firu)"
   ]
  },
  {
   "cell_type": "markdown",
   "id": "e6bd35e4",
   "metadata": {},
   "source": [
    "#### `.sort()`"
   ]
  },
  {
   "cell_type": "markdown",
   "id": "b6b84e8b",
   "metadata": {},
   "source": [
    "El método `.sort()` ordena la lista de menor a mayor.\n",
    "\n",
    "Puede recibir el argumento reverse=True para ordenar de mayor a menor."
   ]
  },
  {
   "cell_type": "code",
   "execution_count": 11,
   "id": "2fe1d19e",
   "metadata": {},
   "outputs": [
    {
     "name": "stdout",
     "output_type": "stream",
     "text": [
      "\n",
      "Lista ordenada: [1, 3, 5, 8, 9]\n"
     ]
    }
   ],
   "source": [
    "numeros = [5, 3, 8, 1, 9]\n",
    "numeros.sort()\n",
    "print(\"\\nLista ordenada:\", numeros)"
   ]
  },
  {
   "cell_type": "code",
   "execution_count": 12,
   "id": "fad7b8de",
   "metadata": {},
   "outputs": [
    {
     "name": "stdout",
     "output_type": "stream",
     "text": [
      "Lista ordenada descendente: [9, 8, 5, 3, 1]\n"
     ]
    }
   ],
   "source": [
    "numeros.sort(reverse=True)\n",
    "print(\"Lista ordenada descendente:\", numeros)"
   ]
  },
  {
   "cell_type": "markdown",
   "id": "3efec7ae",
   "metadata": {},
   "source": [
    "#### `.reverse()`"
   ]
  },
  {
   "cell_type": "markdown",
   "id": "d4cd061e",
   "metadata": {},
   "source": [
    "El método `.reverse()` invierte el orden de la lista (no la ordena)."
   ]
  },
  {
   "cell_type": "code",
   "execution_count": 13,
   "id": "c92b1a20",
   "metadata": {},
   "outputs": [
    {
     "name": "stdout",
     "output_type": "stream",
     "text": [
      "Lista invertida: ['d', 'c', 'b', 'a']\n"
     ]
    }
   ],
   "source": [
    "letras = [\"a\", \"b\", \"c\", \"d\"]\n",
    "letras.reverse()\n",
    "print(\"Lista invertida:\", letras)"
   ]
  },
  {
   "cell_type": "markdown",
   "id": "33055ff8",
   "metadata": {},
   "source": [
    "#### `copy()`"
   ]
  },
  {
   "cell_type": "markdown",
   "id": "60666652",
   "metadata": {},
   "source": [
    "El método `.copy()` devuelve una copia superficial de la lista."
   ]
  },
  {
   "cell_type": "code",
   "execution_count": 14,
   "id": "cf9ef58f",
   "metadata": {},
   "outputs": [
    {
     "name": "stdout",
     "output_type": "stream",
     "text": [
      "Copia de la lista mascotas: ['Solovino', 'Firulais', 'Cheems', 'Doge', 'Firulais']\n"
     ]
    }
   ],
   "source": [
    "copia_mascotas = mascotas.copy()\n",
    "print(\"Copia de la lista mascotas:\", copia_mascotas)"
   ]
  }
 ],
 "metadata": {
  "kernelspec": {
   "display_name": "venv",
   "language": "python",
   "name": "python3"
  },
  "language_info": {
   "codemirror_mode": {
    "name": "ipython",
    "version": 3
   },
   "file_extension": ".py",
   "mimetype": "text/x-python",
   "name": "python",
   "nbconvert_exporter": "python",
   "pygments_lexer": "ipython3",
   "version": "3.12.3"
  }
 },
 "nbformat": 4,
 "nbformat_minor": 5
}
