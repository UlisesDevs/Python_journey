{
 "cells": [
  {
   "cell_type": "markdown",
   "metadata": {},
   "source": [
    "### Función:\n",
    "\n",
    "Una función en Python es un bloque que nos sirve para agrupar líneas de código y poder usarlas posteriormente, ya sea dentro del mismo archivo o exportándolas a otro. Las funciones en Python provienen de tres fuentes:\n",
    "\n",
    "#### De Python mismo: \n",
    "Son funciones que pertenecen al entorno de Python y no es necesario importarlas desde ningún lado. Un ejemplo de esto es la función print().\n",
    "\n",
    "#### De módulos: \n",
    "También llamados complementos. Estas funciones pueden requerir una instalación por separado y una importación.\n",
    "\n",
    "#### De tu código: \n",
    "Tú puedes escribir las funciones que creas necesarias y llamarlas dentro de tu mismo archivo o exportarlas para utilizarlas en otro archivo."
   ]
  },
  {
   "cell_type": "markdown",
   "metadata": {},
   "source": [
    "### Argumentos en las funciones:\n",
    "\n",
    "Los argumentos en una función son datos que necesitamos aportar para que esta realice su tarea. Una función puede o no requerir un argumento, y puede tener cualquier cantidad de argumentos, así como diferentes tipos de datos. Un ejemplo de argumento son los datos que escribimos dentro de los paréntesis de la función print(\"Hola\")."
   ]
  },
  {
   "cell_type": "markdown",
   "metadata": {},
   "source": [
    "### Sintaxis de una función\n",
    "\n",
    "Para definir una función en Python, comenzamos con la palabra reservada `def`, seguida de un espacio. A continuación, le damos nombre a nuestra función, seguido de paréntesis. Dentro de estos paréntesis irán nuestros parámetros en caso de que los necesitemos, y si hay más de un parámetro, se separan por comas. Cerramos la definición de nuestra función con dos puntos. Quedaría de la siguiente forma:\n",
    "\n",
    "                def nombre_funcion(parametro1, parametro2):\n"
   ]
  },
  {
   "cell_type": "markdown",
   "metadata": {},
   "source": [
    "Ahora sigue el cuerpo de la función, que debe ir indentado en la siguiente línea. Para esto, puedes utilizar 4 espacios o una tabulación, pero nunca una mezcla de ambos. Además, debes incluir solo una sentencia por línea, como en el siguiente ejemplo:\n",
    "\n",
    "                def nombre_funcion(parametro1, parametro2):\n",
    "                    sentencia1\n",
    "                    sentencia2"
   ]
  },
  {
   "cell_type": "markdown",
   "metadata": {},
   "source": [
    "#### Return:\n",
    "\n",
    "En caso de que nuestra función nos dé como resultado un valor, debemos agregar la palabra reservada `return` al final de nuestra función, seguida del valor que nos va a regresar. Ejemplo:\n",
    "\n",
    "                def nombre_funcion(parametro1, parametro2):\n",
    "                    sentencia1\n",
    "                    sentencia2\n",
    "                    return sentencia1 + sentencia2"
   ]
  },
  {
   "cell_type": "markdown",
   "metadata": {},
   "source": [
    "#### invocar una función:\n",
    "\n",
    "Para invocar una función, debemos escribir el nombre de esta seguido de paréntesis y sus argumentos en caso de que los requiera. Ejemplo:\n",
    "\n",
    "            Llamada a funcion sin argumentos:\n",
    "\n",
    "                nombre_funcion()\n",
    "\n",
    "            Llamada a funcion con argumentos:\n",
    "\n",
    "                nombre_funcion(argumento1, argumento2)"
   ]
  },
  {
   "cell_type": "markdown",
   "metadata": {},
   "source": [
    "### Buenas prácticas y convenciones:\n",
    "\n",
    "- La forma correcta de nombrar funciones en Python es con \"snake_case\", es decir, separar las palabras con guiones bajos. Ejemplo: nombre_de_mi_funcion.\n",
    "\n",
    "- Siempre utilizar letras minúsculas.\n",
    "\n",
    "- El nombre no debe comenzar con números o signos.\n",
    "\n",
    "- Utilizar nombres descriptivos para nuestras funciones.\n",
    "\n",
    "- Cuando tenemos funciones que requieren muchas sentencias, es recomendable que, en caso de necesitar el return, este nos devuelva una variable. Ejemplo:\n",
    "\n",
    "                def nombre_funcion(parametro1, parametro2):\n",
    "                    sentencia1\n",
    "                    sentencia2\n",
    "                    resultado = sentencia1 + sentencia2\n",
    "                    return resultado\n",
    "\n",
    "Todo lo anterior mencionado nos ayuda a escribir código más fácil de entender y leer.\n",
    "\n",
    "El uso de funciones dentro de nuestro código favorece la reutilización y evita que repitamos código. Es recomendable que siempre separemos nuestro código en funciones.\n"
   ]
  },
  {
   "cell_type": "markdown",
   "metadata": {},
   "source": [
    "### Ejemplo práctico:\n",
    "\n",
    "A continuación veremos un ejemplo práctico de una función que suma dos números. Analízalo, saca tus conclusiones y ejecútalo."
   ]
  },
  {
   "cell_type": "code",
   "execution_count": 1,
   "metadata": {},
   "outputs": [
    {
     "name": "stdout",
     "output_type": "stream",
     "text": [
      "50\n"
     ]
    }
   ],
   "source": [
    "def suma(num1, num2):\n",
    "    resultado = num1 + num2\n",
    "    return resultado\n",
    "\n",
    "print(suma(20, 30))\n",
    "# Puedes cambiar los numeros de los argumentos para ver distintos resultados"
   ]
  },
  {
   "cell_type": "markdown",
   "metadata": {},
   "source": [
    "### Nuestra función print():\n",
    "\n",
    "La función print() nos sirve para mostrar datos legibles para el usuario a través de la consola.\n",
    "Esta función recibe como argumentos cualquier tipo de dato existente en Python.\n",
    "\n",
    "En el siguiente ejemplo veremos cómo funciona nuestra función print()."
   ]
  },
  {
   "cell_type": "code",
   "execution_count": 2,
   "metadata": {},
   "outputs": [
    {
     "name": "stdout",
     "output_type": "stream",
     "text": [
      "Esta es la primera línea\n",
      "\n",
      "Esta es otra línea\n"
     ]
    }
   ],
   "source": [
    "print(\"Esta es la primera línea\")\n",
    "print()\n",
    "print(\"Esta es otra línea\")"
   ]
  },
  {
   "cell_type": "markdown",
   "metadata": {},
   "source": [
    "Observa cómo llamamos a print() sin argumentos, lo que en la consola se refleja como una línea vacía.\n",
    "Podemos aprovechar este comportamiento, pero a continuación veremos cómo hacer saltos de línea en la consola\n",
    "sin la necesidad de utilizar múltiples print() en el código."
   ]
  },
  {
   "cell_type": "markdown",
   "metadata": {},
   "source": [
    "#### Carácter de nueva línea:\n",
    "Este carácter se representa con una barra invertida ( \\ ) seguida de la letra \"n\", es decir, \"\\n\".\n",
    "Con esto podemos indicar a la función print() que queremos un salto de línea en esa posición. Ejemplo:"
   ]
  },
  {
   "cell_type": "code",
   "execution_count": 3,
   "metadata": {},
   "outputs": [
    {
     "name": "stdout",
     "output_type": "stream",
     "text": [
      "Esta es la primera línea \n",
      "Esta es la segunda línea\n"
     ]
    }
   ],
   "source": [
    "print(\"Esta es la primera línea \\nEsta es la segunda línea\")"
   ]
  },
  {
   "cell_type": "markdown",
   "metadata": {},
   "source": [
    "#### Más de un argumento en nuestra función print():\n",
    "\n",
    "Cuando pasamos más de un argumento a print(), debemos separarlos por comas. Ejemplo:"
   ]
  },
  {
   "cell_type": "code",
   "execution_count": 5,
   "metadata": {},
   "outputs": [
    {
     "name": "stdout",
     "output_type": "stream",
     "text": [
      "Esto es más de un argumento\n"
     ]
    }
   ],
   "source": [
    "print(\"Esto\",\"es\",\"más\",\"de\",\"un\",\"argumento\")"
   ]
  },
  {
   "cell_type": "markdown",
   "metadata": {},
   "source": [
    "Puedes notar que, aunque nuestros argumentos no tienen espacios entre sí, al imprimirlos en consola,\n",
    "Python, por defecto, los separa con un espacio. Esto sucede porque los argumentos son posicionales y\n",
    "se imprimen en una sola línea."
   ]
  },
  {
   "cell_type": "markdown",
   "metadata": {},
   "source": [
    "Podemos cambiar este comportamiento usando la palabra clave `sep=\"\"` y dentro de las comillas indicar\n",
    "el carácter que queremos utilizar en lugar del espacio. Ejemplo:"
   ]
  },
  {
   "cell_type": "code",
   "execution_count": 6,
   "metadata": {},
   "outputs": [
    {
     "name": "stdout",
     "output_type": "stream",
     "text": [
      "Esto+es+más+de+un+argumento\n"
     ]
    }
   ],
   "source": [
    "print(\"Esto\", \"es\", \"más\", \"de\", \"un\", \"argumento\", sep=\"+\")"
   ]
  }
 ],
 "metadata": {
  "kernelspec": {
   "display_name": "journey_venv",
   "language": "python",
   "name": "python3"
  },
  "language_info": {
   "codemirror_mode": {
    "name": "ipython",
    "version": 3
   },
   "file_extension": ".py",
   "mimetype": "text/x-python",
   "name": "python",
   "nbconvert_exporter": "python",
   "pygments_lexer": "ipython3",
   "version": "3.12.3"
  }
 },
 "nbformat": 4,
 "nbformat_minor": 2
}
