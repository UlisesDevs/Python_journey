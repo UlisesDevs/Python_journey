{
 "cells": [
  {
   "cell_type": "markdown",
   "metadata": {},
   "source": [
    "## Variables"
   ]
  },
  {
   "cell_type": "markdown",
   "metadata": {},
   "source": [
    "### Variables en Python:\n",
    "\n",
    "Una variable es un espacio en la memoria que almacena un valor para ser utilizado posteriormente.\n",
    "\n",
    "Se componen de un nombre y un valor."
   ]
  },
  {
   "cell_type": "markdown",
   "metadata": {},
   "source": [
    "### Reglas para nombrar una variable en Python:\n",
    "\n",
    "- Puede contener mayúsculas, minúsculas, dígitos y el carácter `_` (guion bajo).\n",
    "- Debe comenzar con una letra o con `_` (guion bajo).\n",
    "- El carácter `_` (guion bajo) es considerado una letra.\n",
    "- Python distingue entre mayúsculas y minúsculas (es case-sensitive).\n",
    "- No puede contener espacios.\n",
    "- No puede comenzar con un número ni con un signo especial (`!`, `@`, `$`, etc.).\n",
    "- No debe utilizar palabras reservadas de Python.\n",
    "- Para nombres de varias palabras, se recomienda usar snake_case."
   ]
  },
  {
   "cell_type": "markdown",
   "metadata": {},
   "source": [
    "##### Lista de palabras reservadas en Python (no se pueden usar como nombres de variables):\n"
   ]
  },
  {
   "cell_type": "code",
   "execution_count": null,
   "metadata": {},
   "outputs": [],
   "source": [
    "palabras_reservadas = [\n",
    "    'False', 'None', 'True', 'and', 'as', 'assert', 'break', 'class', 'continue', 'def',\n",
    "    'del', 'elif', 'else', 'except', 'finally', 'for', 'from', 'global', 'if', 'import',\n",
    "    'in', 'is', 'lambda', 'nonlocal', 'not', 'or', 'pass', 'raise', 'return', 'try',\n",
    "    'while', 'with', 'yield'\n",
    "]"
   ]
  },
  {
   "cell_type": "markdown",
   "metadata": {},
   "source": [
    "Para revisar la guía de estilos completa, visita:\n",
    "\n",
    "[Pep-0008](https://peps.python.org/pep-0008/)"
   ]
  },
  {
   "cell_type": "markdown",
   "metadata": {},
   "source": [
    "### ¿Cómo crear una variable en Python?\n",
    "\n",
    "Una variable puede almacenar cualquier tipo de dato. La sintaxis para declarar una variable es:\n",
    "\n",
    "se establece el nombre de la variable seguido por el operador de asignacion `=` despues el valor que contendra la variable.\n",
    "    \n",
    "        nombre_variable = valor\n",
    "\n",
    "Ejemplo:"
   ]
  },
  {
   "cell_type": "code",
   "execution_count": 1,
   "metadata": {},
   "outputs": [],
   "source": [
    "numero = 1  # Se asigna el valor 1 a la variable \"numero\""
   ]
  },
  {
   "cell_type": "markdown",
   "metadata": {},
   "source": [
    "##### Para reasignar un valor a una variable existente:"
   ]
  },
  {
   "cell_type": "code",
   "execution_count": 2,
   "metadata": {},
   "outputs": [
    {
     "name": "stdout",
     "output_type": "stream",
     "text": [
      "Valor inicial de la variable: 1\n",
      "Nuevo valor de la variable: 2\n"
     ]
    }
   ],
   "source": [
    "numero = 1\n",
    "print(\"Valor inicial de la variable:\", numero)\n",
    "numero = numero + 1\n",
    "print(\"Nuevo valor de la variable:\", numero)"
   ]
  },
  {
   "cell_type": "markdown",
   "metadata": {},
   "source": [
    "### Operadores de asignación abreviada:\n",
    "\n",
    "Cuando queremos actualizar el valor de una variable con su propio valor, podemos usar operadores abreviados.\n",
    "\n",
    "Ejemplo:\n",
    "\n",
    "    numero = numero + 1  →  Se puede escribir de manera más corta como:\n",
    "    numero += 1\n",
    "\n",
    "Esto aplica a todos los operadores aritméticos:\n",
    "\n",
    "- `+=`  (suma y asignación)\n",
    "- `-=`  (resta y asignación)\n",
    "- `*=`  (multiplicación y asignación)\n",
    "- `/=`  (división y asignación)\n",
    "- `//=` (división entera y asignación)\n",
    "- `%=`  (módulo y asignación)\n",
    "- `**=` (exponenciación y asignación)"
   ]
  },
  {
   "cell_type": "markdown",
   "metadata": {},
   "source": [
    "### Comentarios en Python:\n",
    "\n",
    "Los comentarios permiten describir el código para facilitar su comprensión. \n",
    "También pueden usarse para desactivar temporalmente líneas de código sin eliminarlas.\n",
    "\n",
    "- Los comentarios son ignorados por el intérprete de Python.\n",
    "- Un buen desarrollador documenta su código para hacerlo más claro."
   ]
  },
  {
   "cell_type": "markdown",
   "metadata": {},
   "source": [
    "##### Comentario de una sola línea:\n",
    "\n",
    "se coloca el símbolo `#` al inicio."
   ]
  },
  {
   "cell_type": "code",
   "execution_count": 4,
   "metadata": {},
   "outputs": [],
   "source": [
    "# Este comentario no se ejecutará\n",
    "# print(\"Este print está comentado\")"
   ]
  },
  {
   "cell_type": "markdown",
   "metadata": {},
   "source": [
    "##### Comentario de múltiples líneas:\n",
    "\n",
    "Se usa con tres comillas simples o dobles al inicio y al final."
   ]
  },
  {
   "cell_type": "code",
   "execution_count": 3,
   "metadata": {},
   "outputs": [
    {
     "data": {
      "text/plain": [
       "'\\nEste es un comentario\\nde varias líneas\\nque no será ejecutado.\\n'"
      ]
     },
     "execution_count": 3,
     "metadata": {},
     "output_type": "execute_result"
    }
   ],
   "source": [
    "\"\"\"\n",
    "Este es un comentario\n",
    "de varias líneas\n",
    "que no será ejecutado.\n",
    "\"\"\""
   ]
  },
  {
   "cell_type": "markdown",
   "metadata": {},
   "source": [
    "También se puede comentar para documentar funciones:"
   ]
  },
  {
   "cell_type": "code",
   "execution_count": 5,
   "metadata": {},
   "outputs": [],
   "source": [
    "def sumar(a, b):\n",
    "    \n",
    "    \"\"\"\n",
    "    Esta función \n",
    "    recibe dos números\n",
    "    \"\"\"\n",
    "    \n",
    "    # Y devuelve la suma de ambos\n",
    "    \n",
    "    return a + b"
   ]
  }
 ],
 "metadata": {
  "kernelspec": {
   "display_name": "journey_venv",
   "language": "python",
   "name": "python3"
  },
  "language_info": {
   "codemirror_mode": {
    "name": "ipython",
    "version": 3
   },
   "file_extension": ".py",
   "mimetype": "text/x-python",
   "name": "python",
   "nbconvert_exporter": "python",
   "pygments_lexer": "ipython3",
   "version": "3.12.3"
  }
 },
 "nbformat": 4,
 "nbformat_minor": 2
}
