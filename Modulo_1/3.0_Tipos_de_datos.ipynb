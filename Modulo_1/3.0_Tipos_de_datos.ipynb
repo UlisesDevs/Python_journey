{
 "cells": [
  {
   "cell_type": "markdown",
   "metadata": {},
   "source": [
    "## Tipos de datos"
   ]
  },
  {
   "cell_type": "markdown",
   "metadata": {},
   "source": [
    "### Literales:\n",
    "\n",
    "Un literal es un valor fijo en el código, que puede ser de distintos tipos y se pueden almacenar \n",
    "o no en variables. Existen literales que, por sí solos, nos indican el valor que representan, \n",
    "como los números enteros, flotantes o booleanos. Sin embargo, las cadenas de texto necesitan \n",
    "obligatoriamente comillas para ser identificadas como tales. Ejemplo: \"Esta es una cadena de texto\".\n",
    "Estos valores también representan los distintos tipos de datos en Python."
   ]
  },
  {
   "cell_type": "markdown",
   "metadata": {},
   "source": [
    "### Números enteros:\n",
    "Son aquellos que no tienen una parte fraccionaria (punto decimal). Cuando declaramos un número \n",
    "entero o lo asignamos a una variable, este no puede contener caracteres que no sean números.\n",
    "    \n",
    "Por ejemplo, para representar un millón, podríamos escribirlo como 1,000,000 para mejorar la \n",
    "legibilidad, pero Python no acepta comas en los números. En su lugar, permite el uso de guiones \n",
    "bajos para mejorar la legibilidad. Ejemplo:"
   ]
  },
  {
   "cell_type": "code",
   "execution_count": 1,
   "metadata": {},
   "outputs": [
    {
     "name": "stdout",
     "output_type": "stream",
     "text": [
      "1000000 1000000\n"
     ]
    }
   ],
   "source": [
    "numero_grande = 1000000\n",
    "numero_grande_con_guion_bajo = 1_000_000\n",
    "print(numero_grande, numero_grande_con_guion_bajo)"
   ]
  },
  {
   "cell_type": "markdown",
   "metadata": {},
   "source": [
    "Para representar números negativos, simplemente agregamos un guion medio (-) delante del número. \n",
    "Ejemplo: -10. Esta regla también se aplica a los números con guiones bajos."
   ]
  },
  {
   "cell_type": "code",
   "execution_count": 2,
   "metadata": {},
   "outputs": [
    {
     "name": "stdout",
     "output_type": "stream",
     "text": [
      "-5\n"
     ]
    }
   ],
   "source": [
    "numero_negativo = -5\n",
    "print(numero_negativo)"
   ]
  },
  {
   "cell_type": "markdown",
   "metadata": {},
   "source": [
    "Python también acepta la notación de números octales (0o20) y hexadecimales (0x1A). \n",
    "Si queremos convertir decimales a estas notaciones, podemos usar las funciones `oct()` y `hex()`. Ejemplo:"
   ]
  },
  {
   "cell_type": "code",
   "execution_count": 3,
   "metadata": {},
   "outputs": [
    {
     "name": "stdout",
     "output_type": "stream",
     "text": [
      "0o10\n",
      "0xa\n"
     ]
    }
   ],
   "source": [
    "numero_octal = 8\n",
    "print(oct(numero_octal))\n",
    "numero_hexadecimal = 10\n",
    "print(hex(numero_hexadecimal))"
   ]
  },
  {
   "cell_type": "markdown",
   "metadata": {},
   "source": [
    "### Números flotantes:\n",
    "\n",
    "Son aquellos que tienen una parte decimal. Al igual que los enteros, solo pueden contener números \n",
    "y el punto decimal. Un detalle importante es que se puede omitir el \"0\" antes del punto decimal, \n",
    "como en .5 o 1., sin que esto afecte su tipo o valor.\n",
    "\n",
    "Hay que tener en cuenta que el punto es lo que define si un número es entero o flotante. No es \n",
    "lo mismo 4 que 4.0, ya que Python los interpreta de manera diferente.\n"
   ]
  },
  {
   "cell_type": "markdown",
   "metadata": {},
   "source": [
    "Para representar números muy grandes o muy pequeños, Python permite la notación científica. \n",
    "\n",
    "Ejemplo:\n",
    "La velocidad de la luz es aproximadamente 300,000,000 m/s. En notación científica, se expresa \n",
    "como 3 × 10⁸. En Python, usamos la letra \"e\" para representar la notación científica:\n",
    "        \n",
    "velocidad_luz = 3e8  # Equivalente a 3 × 10⁸\n",
    "\n",
    "Para números muy pequeños, como la constante de Plank (0.000000000000000000000000000000000662607), \n",
    "la notación científica sería 6.62607 × 10⁻³⁴, y en Python se representa como:\n",
    "        \n",
    "plank = 6.62607e-34"
   ]
  },
  {
   "cell_type": "code",
   "execution_count": 15,
   "metadata": {},
   "outputs": [
    {
     "name": "stdout",
     "output_type": "stream",
     "text": [
      "300000000.0\n",
      "6.62607e-34\n"
     ]
    }
   ],
   "source": [
    "velocidad_luz = 3e8\n",
    "print(velocidad_luz)\n",
    "\n",
    "# Python siempre elige la forma más corta de representar un número:\n",
    "plank = 0.000000000000000000000000000000000662607\n",
    "print(plank)"
   ]
  },
  {
   "cell_type": "markdown",
   "metadata": {},
   "source": [
    "### Cadenas de texto:\n",
    "Las cadenas de texto se utilizan cuando se necesita procesar información textual. \n",
    "En Python, pueden representarse con comillas dobles (\"\") o comillas simples ('').\n",
    "\n",
    "Para incluir comillas dentro de una cadena de texto, podemos usar la barra invertida ( \\ ) como \n",
    "carácter de escape:"
   ]
  },
  {
   "cell_type": "code",
   "execution_count": 16,
   "metadata": {},
   "outputs": [
    {
     "name": "stdout",
     "output_type": "stream",
     "text": [
      "Me gusta el \"café\"\n",
      "Me gustan los \"chilaquiles\"\n",
      "I'm Ulises\n"
     ]
    }
   ],
   "source": [
    "print(\"Me gusta el \\\"café\\\"\")\n",
    "\n",
    "# También podemos usar comillas dobles si la cadena está entre comillas simples:\n",
    "print('Me gustan los \"chilaquiles\"')\n",
    "\n",
    "# Para insertar apóstrofes dentro de una cadena que usa comillas dobles:\n",
    "print(\"I'm Ulises\")"
   ]
  },
  {
   "cell_type": "markdown",
   "metadata": {},
   "source": [
    "Una cadena de texto puede estar vacía: \"\" o \" \". Además, si ponemos un número entre comillas, \n",
    "Python lo tratará como una cadena de texto en lugar de un número. Ejemplo:"
   ]
  },
  {
   "cell_type": "code",
   "execution_count": 17,
   "metadata": {},
   "outputs": [
    {
     "name": "stdout",
     "output_type": "stream",
     "text": [
      "2\n",
      "1.5\n"
     ]
    }
   ],
   "source": [
    "print(\"2\")  # Esto es una cadena, no un número\n",
    "print(\"1.5\")  # También es una cadena, no un flotante"
   ]
  },
  {
   "cell_type": "markdown",
   "metadata": {},
   "source": [
    "### Valores Booleanos:\n",
    "\n",
    "Los valores booleanos representan veracidad y son muy útiles en comparaciones. \n",
    "Se representan con los valores `True` y `False`, siempre con la primera letra en mayúscula y sin \n",
    "comillas. Si los escribimos entre comillas, Python los tratará como cadenas de texto.\n",
    "\n",
    "Ejemplo de comparación con valores booleanos:"
   ]
  },
  {
   "cell_type": "code",
   "execution_count": 18,
   "metadata": {},
   "outputs": [
    {
     "name": "stdout",
     "output_type": "stream",
     "text": [
      "True\n",
      "False\n"
     ]
    }
   ],
   "source": [
    "print(True > False)  # Devuelve True\n",
    "print(True < False)  # Devuelve False"
   ]
  }
 ],
 "metadata": {
  "kernelspec": {
   "display_name": "journey_venv",
   "language": "python",
   "name": "python3"
  },
  "language_info": {
   "codemirror_mode": {
    "name": "ipython",
    "version": 3
   },
   "file_extension": ".py",
   "mimetype": "text/x-python",
   "name": "python",
   "nbconvert_exporter": "python",
   "pygments_lexer": "ipython3",
   "version": "3.12.3"
  }
 },
 "nbformat": 4,
 "nbformat_minor": 2
}
