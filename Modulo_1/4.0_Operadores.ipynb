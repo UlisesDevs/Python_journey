{
 "cells": [
  {
   "cell_type": "markdown",
   "metadata": {},
   "source": [
    "## Operadores"
   ]
  },
  {
   "cell_type": "markdown",
   "metadata": {},
   "source": [
    "### ¿Qué es un Operador?:\n",
    "\n",
    "Un operador es un símbolo del lenguaje de programación que permite realizar operaciones \n",
    "con valores y variables.\n",
    "\n",
    "Operadores disponibles en Python:"
   ]
  },
  {
   "cell_type": "markdown",
   "metadata": {},
   "source": [
    "##### Exponenciación:\n",
    "\n",
    "se representa con los signos `**`"
   ]
  },
  {
   "cell_type": "code",
   "execution_count": 1,
   "metadata": {},
   "outputs": [
    {
     "name": "stdout",
     "output_type": "stream",
     "text": [
      "Resultado de una exponenciación:  8\n"
     ]
    }
   ],
   "source": [
    "print(\"Resultado de una exponenciación: \", 2 ** 3)"
   ]
  },
  {
   "cell_type": "markdown",
   "metadata": {},
   "source": [
    "##### Multiplicación: \n",
    "\n",
    "se representa con el signo `*`"
   ]
  },
  {
   "cell_type": "code",
   "execution_count": null,
   "metadata": {},
   "outputs": [],
   "source": [
    "print(\"Resultado de una multiplicación: \", 2 * 3)"
   ]
  },
  {
   "cell_type": "markdown",
   "metadata": {},
   "source": [
    "##### División:\n",
    "\n",
    "se representa con el signo `/`\n",
    "\n",
    "Nota: el resultado de una división siempre es un número flotante (float)."
   ]
  },
  {
   "cell_type": "code",
   "execution_count": 2,
   "metadata": {},
   "outputs": [
    {
     "name": "stdout",
     "output_type": "stream",
     "text": [
      "Resultado de una división:  5.0\n"
     ]
    }
   ],
   "source": [
    "print(\"Resultado de una división: \", 10 / 2)"
   ]
  },
  {
   "cell_type": "markdown",
   "metadata": {},
   "source": [
    "##### División entera:\n",
    "\n",
    "se representa con los signos `//`\n",
    "\n",
    "Nota: La division entera es un redondeo que siempre es hacia abajo (también conocido como floor division) y como su nombre lo indica da como resultado un numero entero.\n"
   ]
  },
  {
   "cell_type": "code",
   "execution_count": 4,
   "metadata": {},
   "outputs": [
    {
     "name": "stdout",
     "output_type": "stream",
     "text": [
      "Resultado de una división entera:  3\n"
     ]
    }
   ],
   "source": [
    "print(\"Resultado de una división entera: \", 10 // 3)"
   ]
  },
  {
   "cell_type": "markdown",
   "metadata": {},
   "source": [
    "##### Residuo o módulo:\n",
    "\n",
    "se representa con el signo `%`\n",
    "\n",
    "Este operador devuelve el residuo de la división entera."
   ]
  },
  {
   "cell_type": "code",
   "execution_count": 5,
   "metadata": {},
   "outputs": [
    {
     "name": "stdout",
     "output_type": "stream",
     "text": [
      "Resultado de un módulo:  2\n"
     ]
    }
   ],
   "source": [
    "print(\"Resultado de un módulo: \", 14 % 4)"
   ]
  },
  {
   "cell_type": "markdown",
   "metadata": {},
   "source": [
    "Explicación detallada del módulo:\n",
    "\n",
    "    14 // 4 da como resultado 3 → este es el cociente entero;\n",
    "\n",
    "    3 * 4 da como resultado 12 → es el producto del cociente por el divisor;\n",
    "    \n",
    "    14 - 12 da como resultado 2 → este es el residuo."
   ]
  },
  {
   "cell_type": "markdown",
   "metadata": {},
   "source": [
    "##### Nota importante: No dividas entre 0, ni uses división entera o módulo con 0, ya que esto genera un error.\n"
   ]
  },
  {
   "cell_type": "markdown",
   "metadata": {},
   "source": [
    "##### Suma:\n",
    "\n",
    "se representa con el signo `+`"
   ]
  },
  {
   "cell_type": "code",
   "execution_count": null,
   "metadata": {},
   "outputs": [],
   "source": [
    "print(\"Resultado de una suma: \", 10 + 10)"
   ]
  },
  {
   "cell_type": "markdown",
   "metadata": {},
   "source": [
    "##### Resta:\n",
    "\n",
    "se representa con el signo `-`"
   ]
  },
  {
   "cell_type": "code",
   "execution_count": null,
   "metadata": {},
   "outputs": [],
   "source": [
    "print(\"Resultado de una resta: \", 15 - 10)"
   ]
  },
  {
   "cell_type": "markdown",
   "metadata": {},
   "source": [
    "### Operadores unarios y binarios:\n",
    "    - Un operador unario es aquel que opera sobre un solo operando. Ejemplo:\n",
    "        +1 o -1\n",
    "\n",
    "    - Un operador binario es aquel que opera sobre dos operandos. Ejemplo:\n",
    "        1 * 1 o 2 + 4"
   ]
  },
  {
   "cell_type": "markdown",
   "metadata": {},
   "source": [
    "### Prioridad de operadores en Python:\n",
    "\n",
    "Al igual que en matemáticas, Python tiene un orden de prioridad para evaluar los operadores. \n",
    "El orden es el siguiente:\n",
    "\n",
    "1. `**` (Exponenciación)\n",
    "2. `+`, `-` (Unarios). Nota: Los operadores unarios a la derecha del operador `**` tienen mayor prioridad.\n",
    "3. `*`, `/`, `//`, `%` (Multiplicación, División, División entera y Módulo)\n",
    "4. `+`, `-` (Suma y Resta)"
   ]
  },
  {
   "cell_type": "markdown",
   "metadata": {},
   "source": [
    "### Enlazado de operadores:\n",
    "\n",
    "¿Qué pasa cuando hay múltiples operadores con la misma prioridad en una expresión? \n",
    "Python resuelve esto aplicando una regla llamada \"enlazado\", que dicta la dirección de evaluación:\n",
    "\n",
    "- Para la mayoría de los operadores (como `*`, `/`, `//`, `%` y `+`, `-`), el enlazado es de **izquierda a derecha**.\n",
    "- Para la exponenciación (`**`), el enlazado es de **derecha a izquierda**."
   ]
  },
  {
   "cell_type": "markdown",
   "metadata": {},
   "source": [
    "##### Ejemplo de enlazado de izquierda a derecha:"
   ]
  },
  {
   "cell_type": "code",
   "execution_count": null,
   "metadata": {},
   "outputs": [],
   "source": [
    "print(\"Resultado del enlazado de módulo: \", 9 % 6 % 2)"
   ]
  },
  {
   "cell_type": "markdown",
   "metadata": {},
   "source": [
    "    El resultado es 1, porque se evalúa de izquierda a derecha: (9 % 6) % 2 → 3 % 2 → 1."
   ]
  },
  {
   "cell_type": "markdown",
   "metadata": {},
   "source": [
    "##### Ejemplo de enlazado de derecha a izquierda:"
   ]
  },
  {
   "cell_type": "code",
   "execution_count": null,
   "metadata": {},
   "outputs": [],
   "source": [
    "print(\"Resultado del enlazado de exponenciación: \", 2 ** 2 ** 3)"
   ]
  },
  {
   "cell_type": "markdown",
   "metadata": {},
   "source": [
    "    Se evalúa como: 2 ** (2 ** 3) → 2 ** 8 → 256."
   ]
  },
  {
   "cell_type": "markdown",
   "metadata": {},
   "source": [
    "##### Pregunta: \n",
    "\n",
    "¿Cuál crees que sea el resultado de la siguiente expresión?"
   ]
  },
  {
   "cell_type": "code",
   "execution_count": null,
   "metadata": {},
   "outputs": [],
   "source": [
    "print(\"Resultado: \", 2 * 3 % 5)"
   ]
  },
  {
   "cell_type": "markdown",
   "metadata": {},
   "source": [
    "### Uso de paréntesis en operaciones:\n",
    "\n",
    "Python permite el uso de paréntesis para mejorar la legibilidad y seguir las reglas matemáticas \n",
    "estándar, donde las expresiones dentro de los paréntesis se evalúan primero.\n",
    "\n",
    "Ejemplo: ¿Cuál crees que sea el resultado de la siguiente expresión?"
   ]
  },
  {
   "cell_type": "code",
   "execution_count": null,
   "metadata": {},
   "outputs": [],
   "source": [
    "print(\"Resultado de la expresión con paréntesis: \", (5 * ((25 % 13) + 100) / (2 * 13)) // 2)\n"
   ]
  }
 ],
 "metadata": {
  "kernelspec": {
   "display_name": "journey_venv",
   "language": "python",
   "name": "python3"
  },
  "language_info": {
   "codemirror_mode": {
    "name": "ipython",
    "version": 3
   },
   "file_extension": ".py",
   "mimetype": "text/x-python",
   "name": "python",
   "nbconvert_exporter": "python",
   "pygments_lexer": "ipython3",
   "version": "3.12.3"
  }
 },
 "nbformat": 4,
 "nbformat_minor": 2
}
