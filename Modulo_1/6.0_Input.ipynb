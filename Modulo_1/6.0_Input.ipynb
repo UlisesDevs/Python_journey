{
 "cells": [
  {
   "cell_type": "markdown",
   "metadata": {},
   "source": [
    "## Input"
   ]
  },
  {
   "cell_type": "markdown",
   "metadata": {},
   "source": [
    "### Interacción con el usuario en Python:\n",
    "\n",
    "Para interactuar con el usuario y permitirle introducir datos en nuestro programa, \n",
    "utilizamos la función `input()`. Esta función permite al usuario escribir en la consola, \n",
    "lo que hace que nuestro código sea interactivo.\n",
    "    \n",
    "Es crucial asignar el resultado de `input()` a una variable, ya que de lo contrario \n",
    "los datos ingresados se perderán."
   ]
  },
  {
   "cell_type": "markdown",
   "metadata": {},
   "source": [
    "##### Uso de `input()` sin argumentos:"
   ]
  },
  {
   "cell_type": "code",
   "execution_count": null,
   "metadata": {},
   "outputs": [
    {
     "name": "stdout",
     "output_type": "stream",
     "text": [
      "Escribe tu nombre: \n"
     ]
    }
   ],
   "source": [
    "print(\"Escribe tu nombre: \")\n",
    "saludo = input()\n",
    "print(\"Hola\", saludo)"
   ]
  },
  {
   "cell_type": "markdown",
   "metadata": {},
   "source": [
    "##### Uso de `input()` con argumentos:"
   ]
  },
  {
   "cell_type": "code",
   "execution_count": 5,
   "metadata": {},
   "outputs": [
    {
     "name": "stdout",
     "output_type": "stream",
     "text": [
      "Hola, Jops\n"
     ]
    }
   ],
   "source": [
    "nombre = input(\"Introduce tu nombre: \")\n",
    "print(\"Hola,\", nombre)"
   ]
  },
  {
   "cell_type": "markdown",
   "metadata": {},
   "source": [
    "##### Importante: \n",
    "\n",
    "    Los datos ingresados con input() siempre son cadenas de texto (str).\n",
    "    Si intentamos realizar operaciones matemáticas directamente, podríamos obtener resultados inesperados.\n"
   ]
  },
  {
   "cell_type": "code",
   "execution_count": 6,
   "metadata": {},
   "outputs": [
    {
     "name": "stdout",
     "output_type": "stream",
     "text": [
      "Nota: Como ambas entradas son cadenas, la suma las concatenará: 2323\n"
     ]
    }
   ],
   "source": [
    "string1 = input(\"Introduce el primer número: \")\n",
    "string2 = input(\"Introduce el segundo número: \")\n",
    "print(\"Nota: Como ambas entradas son cadenas, la suma las concatenará:\", string1 + string2)\n"
   ]
  },
  {
   "cell_type": "markdown",
   "metadata": {},
   "source": [
    "##### Nota sobre el operador `*` en cadenas:"
   ]
  },
  {
   "cell_type": "code",
   "execution_count": 7,
   "metadata": {},
   "outputs": [
    {
     "name": "stdout",
     "output_type": "stream",
     "text": [
      "Nota: 'Hola' será replicado 3 veces: HolaHolaHola\n"
     ]
    }
   ],
   "source": [
    "print(\"Nota: 'Hola' será replicado 3 veces:\", 3 * \"Hola\")"
   ]
  },
  {
   "cell_type": "markdown",
   "metadata": {},
   "source": [
    "Si el número es 0 o negativo, la cadena resultante será vacía."
   ]
  },
  {
   "cell_type": "markdown",
   "metadata": {},
   "source": [
    "### Conversión de tipos en Python:\n",
    "\n",
    "Para realizar operaciones matemáticas con datos ingresados por el usuario, es necesario convertir \n",
    "las cadenas a números. Python nos ofrece dos funciones para esto:\n",
    "\n",
    "- `int()`  → Convierte a número entero (integer).\n",
    "- `float()` → Convierte a número decimal (floating point).\n",
    "\n",
    "Si la conversión falla (por ejemplo, si el usuario ingresa letras en lugar de números), \n",
    "el programa generará un error."
   ]
  },
  {
   "cell_type": "code",
   "execution_count": 8,
   "metadata": {},
   "outputs": [
    {
     "name": "stdout",
     "output_type": "stream",
     "text": [
      "Ahora sí serán sumados correctamente: 46\n"
     ]
    }
   ],
   "source": [
    "numero1 = int(input(\"Introduce el primer número: \"))\n",
    "numero2 = int(input(\"Introduce el segundo número: \"))\n",
    "print(\"Ahora sí serán sumados correctamente:\", numero1 + numero2)"
   ]
  },
  {
   "cell_type": "markdown",
   "metadata": {},
   "source": [
    "### Conversión inversa: \n",
    "número a cadena\n",
    "\n",
    "- La función `str()` convierte un número en una cadena de texto."
   ]
  },
  {
   "cell_type": "code",
   "execution_count": 9,
   "metadata": {},
   "outputs": [
    {
     "name": "stdout",
     "output_type": "stream",
     "text": [
      "Número convertido a texto: 123 → Tipo: <class 'str'>\n"
     ]
    }
   ],
   "source": [
    "numero = 123\n",
    "texto = str(numero)\n",
    "print(\"Número convertido a texto:\", texto, \"→ Tipo:\", type(texto))"
   ]
  }
 ],
 "metadata": {
  "kernelspec": {
   "display_name": "journey_venv",
   "language": "python",
   "name": "python3"
  },
  "language_info": {
   "codemirror_mode": {
    "name": "ipython",
    "version": 3
   },
   "file_extension": ".py",
   "mimetype": "text/x-python",
   "name": "python",
   "nbconvert_exporter": "python",
   "pygments_lexer": "ipython3",
   "version": "3.10.12"
  }
 },
 "nbformat": 4,
 "nbformat_minor": 2
}
