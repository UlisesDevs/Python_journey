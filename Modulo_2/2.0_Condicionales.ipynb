{
 "cells": [
  {
   "cell_type": "markdown",
   "id": "b1c60f9c",
   "metadata": {},
   "source": [
    "## Condicionales"
   ]
  },
  {
   "cell_type": "markdown",
   "id": "cd25f12c",
   "metadata": {},
   "source": [
    "Ahora que sabemos hacer comparaciones y obtener resultados booleanos (True o False), \n",
    "es momento de utilizar estos resultados en mecanismos llamados **condicionales**.  \n",
    "\n",
    "Los condicionales nos permiten **tomar decisiones en el programa**: ejecutar una acción si se cumple \n",
    "una condición, o ejecutar otra diferente si no se cumple."
   ]
  },
  {
   "cell_type": "markdown",
   "id": "16a8f6e9",
   "metadata": {},
   "source": [
    "#### Condicional `if`"
   ]
  },
  {
   "cell_type": "markdown",
   "id": "3d08eb3e",
   "metadata": {},
   "source": [
    "La estructura básica de un condicional `if` en Python es la siguiente:\n",
    "\n",
    "    if condición:\n",
    "        instrucciones_si_true\n",
    "\n",
    "Elementos importantes:\n",
    "    - La palabra reservada `if`.\n",
    "    - Una expresión que regresa True o False.\n",
    "    - Dos puntos (:) al final de la línea.\n",
    "    - Una o más instrucciones indentadas en la siguiente línea.\n",
    "    - Todas las instrucciones dentro del bloque deben tener la misma indentación.\n",
    "    - Se recomienda usar siempre cuatro espacios para indentar (no mezclar tabs y espacios).\n",
    "\n",
    "Interpretación:\n",
    "    - Si la condición es True → se ejecutan las instrucciones indentadas.\n",
    "    - Si la condición es False → se omite el bloque y el programa continúa con la siguiente línea.\n"
   ]
  },
  {
   "cell_type": "code",
   "execution_count": 1,
   "id": "bc3efe2b",
   "metadata": {},
   "outputs": [
    {
     "name": "stdout",
     "output_type": "stream",
     "text": [
      "Sí, diez es mayor que uno\n"
     ]
    }
   ],
   "source": [
    "if 10 > 1:\n",
    "    print(\"Sí, diez es mayor que uno\")"
   ]
  },
  {
   "cell_type": "markdown",
   "id": "61e194f5",
   "metadata": {},
   "source": [
    "#### Condicional `if` - `else`"
   ]
  },
  {
   "cell_type": "markdown",
   "id": "c662e447",
   "metadata": {},
   "source": [
    "En ocasiones queremos ejecutar una acción si la condición es True y otra acción distinta si es False.  \n",
    "Para eso se usa la cláusula `else`.\n",
    "\n",
    "Estructura:\n",
    "\n",
    "    if condición:\n",
    "        instrucciones_si_true\n",
    "    else:\n",
    "        instrucciones_si_false\n",
    "\n",
    "Notas:\n",
    "    - `else` nunca lleva condición; siempre se ejecuta si el `if` no se cumple.\n",
    "    - `else` debe estar al mismo nivel de indentación que el `if`."
   ]
  },
  {
   "cell_type": "code",
   "execution_count": null,
   "id": "d6073aad",
   "metadata": {},
   "outputs": [],
   "source": [
    "if 10 > 20:\n",
    "    print(\"Sí, diez es mayor que veinte\")\n",
    "else:\n",
    "    print(\"No, diez no es mayor que veinte\")"
   ]
  },
  {
   "cell_type": "markdown",
   "id": "fd509f38",
   "metadata": {},
   "source": [
    "#### Condicionales anidados"
   ]
  },
  {
   "cell_type": "markdown",
   "id": "47fdb21f",
   "metadata": {},
   "source": [
    "Podemos colocar un condicional dentro de otro. Esto se llama **anidación**.  \n",
    "\n",
    "Ejemplo en pseudocódigo:\n",
    "\n",
    "    if clima_es_bueno:\n",
    "        if restaurante_disponible:\n",
    "            comer_en_restaurante()\n",
    "        else:\n",
    "            comer_un_sándwich()\n",
    "    else:\n",
    "        if hay_boletos:\n",
    "            ir_al_teatro()\n",
    "        else:\n",
    "            ir_de_compras()\n",
    "\n",
    "Notas:\n",
    "    - Cada `else` corresponde al `if` de su mismo nivel de indentación.\n",
    "    - El uso correcto de indentación mejora mucho la legibilidad."
   ]
  },
  {
   "cell_type": "markdown",
   "id": "6af46e70",
   "metadata": {},
   "source": [
    "#### La sentencia `elif`"
   ]
  },
  {
   "cell_type": "markdown",
   "id": "17abd442",
   "metadata": {},
   "source": [
    "Cuando necesitamos verificar múltiples condiciones diferentes, en lugar de anidar muchos `if - else`, \n",
    "usamos la palabra reservada `elif` (abreviatura de \"else if\").\n",
    "\n",
    "Estructura:\n",
    "\n",
    "    if condición1:\n",
    "        instrucciones_si_cond1\n",
    "    elif condición2:\n",
    "        instrucciones_si_cond2\n",
    "    elif condición3:\n",
    "        instrucciones_si_cond3\n",
    "    else:\n",
    "        instrucciones_si_ninguna\n",
    "\n",
    "Notas:\n",
    "    - Cada `elif` lleva su propia condición.\n",
    "    - Solo se ejecuta el primer bloque cuya condición sea True.\n",
    "    - Si ninguna condición se cumple, se ejecuta el bloque `else` (si existe).\n",
    "    - Este esquema se conoce como **cascada de condiciones**."
   ]
  },
  {
   "cell_type": "code",
   "execution_count": 2,
   "id": "b6b2f30e",
   "metadata": {},
   "outputs": [
    {
     "name": "stdout",
     "output_type": "stream",
     "text": [
      "Voy al teatro\n"
     ]
    }
   ],
   "source": [
    "the_weather_is_good = False\n",
    "tickets_are_available = True\n",
    "table_is_available = False\n",
    "\n",
    "if the_weather_is_good:\n",
    "    print(\"Voy a dar un paseo\")\n",
    "elif tickets_are_available:\n",
    "    print(\"Voy al teatro\")\n",
    "elif table_is_available:\n",
    "    print(\"Voy a almorzar afuera\")\n",
    "else:\n",
    "    print(\"Juego ajedrez en casa\")"
   ]
  },
  {
   "cell_type": "markdown",
   "id": "b3bf593d",
   "metadata": {},
   "source": [
    "#### Reglas importantes sobre `if` - `elif` - `else`"
   ]
  },
  {
   "cell_type": "markdown",
   "id": "0458a364",
   "metadata": {},
   "source": [
    "1. No se puede usar un `else` sin un `if` previo.\n",
    "2. El `else` siempre es la última opción, independientemente de cuántos `elif` se hayan usado.\n",
    "3. `else` es opcional: podemos tener `if` o `if - elif` sin necesidad de `else`.\n",
    "4. En una cascada de if - elif - else, solo se ejecuta una rama: \n",
    "   la primera cuya condición se cumpla."
   ]
  },
  {
   "cell_type": "markdown",
   "id": "bb761972",
   "metadata": {},
   "source": [
    "#### Ejemplo"
   ]
  },
  {
   "cell_type": "code",
   "execution_count": 3,
   "id": "9acdfe3a",
   "metadata": {},
   "outputs": [
    {
     "name": "stdout",
     "output_type": "stream",
     "text": [
      "x es mayor a 5\n"
     ]
    }
   ],
   "source": [
    "x = 10\n",
    "if x > 20:\n",
    "    print(\"x es mayor a 20\")\n",
    "elif x > 5:\n",
    "    print(\"x es mayor a 5\")  # Se ejecuta este bloque\n",
    "elif x > 0:\n",
    "    print(\"x es positivo\")   # Este nunca se ejecuta porque ya se cumplió el anterior\n",
    "else:\n",
    "    print(\"x es 0 o negativo\")"
   ]
  }
 ],
 "metadata": {
  "kernelspec": {
   "display_name": "journey_venv",
   "language": "python",
   "name": "python3"
  },
  "language_info": {
   "codemirror_mode": {
    "name": "ipython",
    "version": 3
   },
   "file_extension": ".py",
   "mimetype": "text/x-python",
   "name": "python",
   "nbconvert_exporter": "python",
   "pygments_lexer": "ipython3",
   "version": "3.12.0"
  }
 },
 "nbformat": 4,
 "nbformat_minor": 5
}
