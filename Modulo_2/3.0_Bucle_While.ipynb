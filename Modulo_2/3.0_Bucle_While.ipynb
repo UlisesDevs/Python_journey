{
 "cells": [
  {
   "cell_type": "markdown",
   "id": "53d7bcbb",
   "metadata": {},
   "source": [
    "## Bucles"
   ]
  },
  {
   "cell_type": "markdown",
   "id": "26aa0447",
   "metadata": {},
   "source": [
    "#### ¿Qué es un bucle?"
   ]
  },
  {
   "cell_type": "markdown",
   "id": "2e266839",
   "metadata": {},
   "source": [
    "Un **bucle** es una secuencia de código que se repite mientras se cumpla una condición.  \n",
    "\n",
    "La diferencia principal con las condicionales (`if`) es la siguiente:\n",
    "- `if`: ejecuta un bloque de código **solo una vez** si la condición es True.\n",
    "- `while`: ejecuta un bloque de código **varias veces** mientras la condición sea True.\n",
    "\n",
    "Ejemplo en pseudocódigo:\n",
    "\n",
    "    mientras haya algo que hacer:\n",
    "        hazlo\n",
    "\n",
    "Nota: si no hay nada que hacer (condición False desde el inicio), el bucle nunca se ejecuta.\n"
   ]
  },
  {
   "cell_type": "markdown",
   "id": "30b09e94",
   "metadata": {},
   "source": [
    "## Bucle `while`"
   ]
  },
  {
   "cell_type": "markdown",
   "id": "08b2fbe0",
   "metadata": {},
   "source": [
    "Un bucle `while` se declara con la palabra reservada `while`, seguida de una condición booleana, \n",
    "dos puntos (:) y un bloque de instrucciones indentado.\n",
    "\n",
    "Estructura:\n",
    "\n",
    "    while condición:\n",
    "        instrucciones\n",
    "\n",
    "Notas importantes:\n",
    "- El cuerpo del bucle debe modificar la condición en algún momento, de lo contrario el bucle será infinito.\n",
    "- Todas las reglas de indentación de Python aplican también aquí."
   ]
  },
  {
   "cell_type": "code",
   "execution_count": null,
   "id": "3e6a27ff",
   "metadata": {},
   "outputs": [],
   "source": [
    "# Ejemplo de bucle infinito (¡peligroso!)\n",
    "# while True:\n",
    "#     print(\"Estoy atrapado dentro de un bucle.\")"
   ]
  },
  {
   "cell_type": "markdown",
   "id": "8d4f8fa8",
   "metadata": {},
   "source": [
    "Explicación:\n",
    "- Como la condición siempre es True y nunca cambia, el bucle no termina.\n",
    "- Resultado → se imprimirá \"Estoy atrapado dentro de un bucle.\" infinitamente."
   ]
  },
  {
   "cell_type": "code",
   "execution_count": null,
   "id": "694cd89b",
   "metadata": {},
   "outputs": [],
   "source": [
    "# Ejemplo de bucle finito\n",
    "number = 0\n",
    "while number < 11:\n",
    "    print(\"Dentro del bucle:\", number)\n",
    "    number += 1\n",
    "print(\"Fuera del bucle\")"
   ]
  },
  {
   "cell_type": "markdown",
   "id": "0affbeb6",
   "metadata": {},
   "source": [
    "Explicación paso a paso:\n",
    "1. Inicializamos `number = 0`.\n",
    "2. El bucle verifica la condición → `number < 11`.\n",
    "3. Como 0 < 11 es True, se ejecuta el cuerpo:\n",
    "   - Se imprime el valor de number.\n",
    "   - Se incrementa en 1 con `number += 1`.\n",
    "4. En la siguiente iteración, number vale 1 → como 1 < 11 sigue siendo True, se repite.\n",
    "5. Este proceso continúa hasta que number llega a 11.\n",
    "6. Cuando number = 11 → la condición `number < 11` es False → el bucle termina."
   ]
  },
  {
   "cell_type": "markdown",
   "id": "31e6cff4",
   "metadata": {},
   "source": [
    "#### Ejercicio práctico: Adivina el número secreto"
   ]
  },
  {
   "cell_type": "markdown",
   "id": "95f5d47e",
   "metadata": {},
   "source": [
    "Un mago junior ha elegido un número secreto y lo ha guardado en la variable `secret_number`.  \n",
    "\n",
    "Él quiere que quien ejecute el programa juegue el juego **\"Adivina el número secreto\"**.  \n",
    "Si el jugador no acierta, quedará atrapado en un bucle infinito hasta adivinarlo.  \n",
    "\n",
    "Objetivo:\n",
    "- Pedir al usuario que ingrese un número entero.\n",
    "- Usar un bucle while.\n",
    "- Comparar el número ingresado con el número secreto.\n",
    "- Mientras no acierte:\n",
    "    → Mostrar el mensaje: \"¡Ja, ja! ¡Estás atrapado en mi bucle!\"\n",
    "    → Pedir un nuevo número.\n",
    "- Si acierta:\n",
    "    → Mostrar el número y el mensaje: \"¡Bien hecho, muggle! Eres libre ahora.\""
   ]
  },
  {
   "cell_type": "code",
   "execution_count": 1,
   "id": "900a5fe4",
   "metadata": {},
   "outputs": [
    {
     "name": "stdout",
     "output_type": "stream",
     "text": [
      "\n",
      "+================================+\n",
      "| ¡Bienvenido a mi juego, muggle!|\n",
      "| Introduce un número entero     |\n",
      "| y adivina qué número he        |\n",
      "| elegido para ti.               |\n",
      "| ¿Cuál es el número secreto?    |\n",
      "+================================+\n",
      "\n",
      "¡Bien hecho, muggle! Eres libre ahora.\n"
     ]
    }
   ],
   "source": [
    "# Respuesta al ejercicio\n",
    "secret_number = 777\n",
    "\n",
    "print(\n",
    "\"\"\"\n",
    "+================================+\n",
    "| ¡Bienvenido a mi juego, muggle!|\n",
    "| Introduce un número entero     |\n",
    "| y adivina qué número he        |\n",
    "| elegido para ti.               |\n",
    "| ¿Cuál es el número secreto?    |\n",
    "+================================+\n",
    "\"\"\")\n",
    "\n",
    "user_number = int(input(\"Ingresa tu número: \"))\n",
    "\n",
    "while user_number != secret_number:\n",
    "    print(\"¡Ja, ja! ¡Estás atrapado en mi bucle!\")\n",
    "    user_number = int(input(\"Intenta de nuevo: \"))\n",
    "\n",
    "print(\"¡Bien hecho, muggle! Eres libre ahora.\")\n"
   ]
  }
 ],
 "metadata": {
  "kernelspec": {
   "display_name": "journey_venv",
   "language": "python",
   "name": "python3"
  },
  "language_info": {
   "codemirror_mode": {
    "name": "ipython",
    "version": 3
   },
   "file_extension": ".py",
   "mimetype": "text/x-python",
   "name": "python",
   "nbconvert_exporter": "python",
   "pygments_lexer": "ipython3",
   "version": "3.12.0"
  }
 },
 "nbformat": 4,
 "nbformat_minor": 5
}
