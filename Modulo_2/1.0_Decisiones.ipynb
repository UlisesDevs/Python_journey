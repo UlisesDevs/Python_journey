{
 "cells": [
  {
   "cell_type": "markdown",
   "id": "8f21f6e1",
   "metadata": {},
   "source": [
    "## Decisiones"
   ]
  },
  {
   "cell_type": "markdown",
   "id": "61fd1b36",
   "metadata": {},
   "source": [
    "Las computadoras trabajan principalmente con dos tipos de respuestas lógicas: \n",
    "verdadero (True) o falso (False).  \n",
    "Nunca obtendrás respuestas como “mmm, tal vez” o “probablemente sí”.  \n",
    "Para este tipo de preguntas binarias (verdadero/falso), Python utiliza un conjunto \n",
    "de operadores especiales llamados **operadores de comparación**.\n",
    "\n",
    "Estos operadores permiten comparar valores y siempre devuelven un valor booleano (True o False)."
   ]
  },
  {
   "cell_type": "markdown",
   "id": "7061a313",
   "metadata": {},
   "source": [
    "#### Operador de igualdad `==`"
   ]
  },
  {
   "cell_type": "markdown",
   "id": "da0a4d1d",
   "metadata": {},
   "source": [
    "Este operador verifica si dos valores son iguales.  \n",
    "No debe confundirse con el operador de asignación (=), que sirve para guardar valores en variables.  \n",
    "El operador de igualdad utiliza **dos símbolos de igual juntos (==)** y devuelve True si ambos valores \n",
    "son iguales, de lo contrario devuelve False."
   ]
  },
  {
   "cell_type": "code",
   "execution_count": 1,
   "id": "5d974104",
   "metadata": {},
   "outputs": [
    {
     "name": "stdout",
     "output_type": "stream",
     "text": [
      "2 == 2 es:  True\n",
      "2 == 2.0 es:  True\n",
      "1 == 2 es:  False\n"
     ]
    }
   ],
   "source": [
    "print(\"2 == 2 es: \", 2 == 2)\n",
    "print(\"2 == 2.0 es: \", 2 == 2.0)  # Un int y un float pueden ser iguales si su valor numérico coincide\n",
    "print(\"1 == 2 es: \", 1 == 2)"
   ]
  },
  {
   "cell_type": "markdown",
   "id": "12de00a2",
   "metadata": {},
   "source": [
    "#### Operador de desigualdad `!=`"
   ]
  },
  {
   "cell_type": "markdown",
   "id": "948897ac",
   "metadata": {},
   "source": [
    "Este operador verifica si dos valores son diferentes.  \n",
    "Se compone de un signo de exclamación seguido de un signo igual (!=).  \n",
    "Es el opuesto del operador de igualdad."
   ]
  },
  {
   "cell_type": "code",
   "execution_count": null,
   "id": "c7801534",
   "metadata": {},
   "outputs": [
    {
     "name": "stdout",
     "output_type": "stream",
     "text": [
      "\n",
      "2 != 2 es:  False\n",
      "2 != 2.0 es:  False\n",
      "1 != 2 es:  True\n"
     ]
    }
   ],
   "source": [
    "print(\"2 != 2 es: \", 2 != 2)\n",
    "print(\"2 != 2.0 es: \", 2 != 2.0)\n",
    "print(\"1 != 2 es: \", 1 != 2)"
   ]
  },
  {
   "cell_type": "markdown",
   "id": "c0824867",
   "metadata": {},
   "source": [
    "#### Operador mayor que `>`"
   ]
  },
  {
   "cell_type": "markdown",
   "id": "0fb883cd",
   "metadata": {},
   "source": [
    "Compara si un valor es mayor que otro.  \n",
    "Si la condición se cumple, devuelve True; en caso contrario devuelve False."
   ]
  },
  {
   "cell_type": "code",
   "execution_count": 3,
   "id": "a3466dd7",
   "metadata": {},
   "outputs": [
    {
     "name": "stdout",
     "output_type": "stream",
     "text": [
      "10 > 1 es:  True\n",
      "10 > 10 es:  False\n",
      "10 > 20 es:  False\n"
     ]
    }
   ],
   "source": [
    "print(\"10 > 1 es: \", 10 > 1)\n",
    "print(\"10 > 10 es: \", 10 > 10)\n",
    "print(\"10 > 20 es: \", 10 > 20)"
   ]
  },
  {
   "cell_type": "markdown",
   "id": "92f73e0e",
   "metadata": {},
   "source": [
    "#### Operador mayor o igual que `>=`"
   ]
  },
  {
   "cell_type": "markdown",
   "id": "80b5ca19",
   "metadata": {},
   "source": [
    "Compara si un valor es mayor o igual a otro.  \n",
    "Si al menos son iguales, devuelve True."
   ]
  },
  {
   "cell_type": "code",
   "execution_count": 4,
   "id": "c092345e",
   "metadata": {},
   "outputs": [
    {
     "name": "stdout",
     "output_type": "stream",
     "text": [
      "10 >= 1 es:  True\n",
      "10 >= 10 es:  True\n",
      "10 >= 20 es:  False\n"
     ]
    }
   ],
   "source": [
    "print(\"10 >= 1 es: \", 10 >= 1)\n",
    "print(\"10 >= 10 es: \", 10 >= 10)\n",
    "print(\"10 >= 20 es: \", 10 >= 20)"
   ]
  },
  {
   "cell_type": "markdown",
   "id": "b4802425",
   "metadata": {},
   "source": [
    "#### Operador menor que `<`"
   ]
  },
  {
   "cell_type": "markdown",
   "id": "96733335",
   "metadata": {},
   "source": [
    "Compara si un valor es menor que otro.  \n",
    "Devuelve True solo si el valor de la izquierda es estrictamente menor al de la derecha."
   ]
  },
  {
   "cell_type": "code",
   "execution_count": 5,
   "id": "a3f033a0",
   "metadata": {},
   "outputs": [
    {
     "name": "stdout",
     "output_type": "stream",
     "text": [
      "10 < 1 es:  False\n",
      "10 < 10 es:  False\n",
      "10 < 20 es:  True\n"
     ]
    }
   ],
   "source": [
    "print(\"10 < 1 es: \", 10 < 1)\n",
    "print(\"10 < 10 es: \", 10 < 10)\n",
    "print(\"10 < 20 es: \", 10 < 20)"
   ]
  },
  {
   "cell_type": "markdown",
   "id": "a7555ea0",
   "metadata": {},
   "source": [
    "#### Operador menor o igual que `<=`"
   ]
  },
  {
   "cell_type": "markdown",
   "id": "68ff450b",
   "metadata": {},
   "source": [
    "Compara si un valor es menor o igual a otro.  \n",
    "Devuelve True si el valor de la izquierda es menor o si ambos son iguales."
   ]
  },
  {
   "cell_type": "code",
   "execution_count": 6,
   "id": "871368c0",
   "metadata": {},
   "outputs": [
    {
     "name": "stdout",
     "output_type": "stream",
     "text": [
      "10 <= 1 es:  False\n",
      "10 <= 10 es:  True\n",
      "10 <= 20 es:  True\n"
     ]
    }
   ],
   "source": [
    "print(\"10 <= 1 es: \", 10 <= 1)\n",
    "print(\"10 <= 10 es: \", 10 <= 10)\n",
    "print(\"10 <= 20 es: \", 10 <= 20)"
   ]
  },
  {
   "cell_type": "markdown",
   "id": "25730525",
   "metadata": {},
   "source": [
    "#### Resumen y prioridad de operadores"
   ]
  },
  {
   "cell_type": "markdown",
   "id": "f8f0876a",
   "metadata": {},
   "source": [
    "Los operadores de comparación son fundamentales en la toma de decisiones dentro de un programa, \n",
    "ya que nos permiten crear condiciones que se evalúan como True o False.  \n",
    "\n",
    "Con esto podemos actualizar nuestra tabla de prioridades de operadores en Python \n",
    "(de mayor a menor prioridad):\n",
    "\n",
    "    1 -- +, - unario (ej. +x, -x)\n",
    "    2 -- **\n",
    "    3 -- *, /, //, %\n",
    "    4 -- +, - binario\n",
    "    5 -- <, <=, >, >=\n",
    "    6 -- ==, !="
   ]
  }
 ],
 "metadata": {
  "kernelspec": {
   "display_name": "journey_venv",
   "language": "python",
   "name": "python3"
  },
  "language_info": {
   "codemirror_mode": {
    "name": "ipython",
    "version": 3
   },
   "file_extension": ".py",
   "mimetype": "text/x-python",
   "name": "python",
   "nbconvert_exporter": "python",
   "pygments_lexer": "ipython3",
   "version": "3.12.0"
  }
 },
 "nbformat": 4,
 "nbformat_minor": 5
}
