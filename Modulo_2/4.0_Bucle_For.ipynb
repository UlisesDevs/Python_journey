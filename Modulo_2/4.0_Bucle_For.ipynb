{
 "cells": [
  {
   "cell_type": "markdown",
   "id": "3408e5af",
   "metadata": {},
   "source": [
    "## Bucke `For`"
   ]
  },
  {
   "cell_type": "markdown",
   "id": "66ee5ff8",
   "metadata": {},
   "source": [
    "Otro tipo de bucle en Python es el `for`.  \n",
    "A diferencia del bucle `while`, en el `for` lo importante son **las iteraciones (vueltas)**, no tanto la condición.\n",
    "\n",
    "El bucle for se utiliza para recorrer secuencias o grandes cantidades de datos, **elemento por elemento**.\n",
    "\n",
    "Sintaxis básica:\n",
    "\n",
    "    for variable in secuencia:\n",
    "        instrucciones\n",
    "\n",
    "Ejemplo con range():\n",
    "\n",
    "    for i in range(100):\n",
    "        # do_something()"
   ]
  },
  {
   "cell_type": "markdown",
   "id": "03bff64c",
   "metadata": {},
   "source": [
    "#### Estructura del bucle `for`"
   ]
  },
  {
   "cell_type": "markdown",
   "id": "785edf12",
   "metadata": {},
   "source": [
    "1. Se comienza con la palabra clave `for`.\n",
    "2. Después se declara la **variable de control** (usualmente se usa `i`, pero puede ser cualquier nombre).\n",
    "3. Luego la palabra clave `in`, que indica la secuencia que vamos a recorrer.\n",
    "4. Finalmente, el bloque indentado de instrucciones.\n",
    "\n",
    "La función `range()` es muy común dentro de un for, ya que nos permite generar secuencias de números.\n"
   ]
  },
  {
   "cell_type": "code",
   "execution_count": null,
   "id": "6fe8fba2",
   "metadata": {},
   "outputs": [
    {
     "name": "stdout",
     "output_type": "stream",
     "text": [
      "El valor de i es: 0\n",
      "El valor de i es: 1\n",
      "El valor de i es: 2\n",
      "El valor de i es: 3\n",
      "El valor de i es: 4\n",
      "El valor de i es: 5\n",
      "El valor de i es: 6\n",
      "El valor de i es: 7\n",
      "El valor de i es: 8\n",
      "El valor de i es: 9\n",
      "El valor de i es: 10\n",
      "El valor de i es: 11\n",
      "El valor de i es: 12\n",
      "El valor de i es: 13\n",
      "El valor de i es: 14\n",
      "El valor de i es: 15\n",
      "El valor de i es: 16\n",
      "El valor de i es: 17\n",
      "El valor de i es: 18\n",
      "El valor de i es: 19\n"
     ]
    }
   ],
   "source": [
    "for i in range(20):\n",
    "    print(\"El valor de i es:\", i)"
   ]
  },
  {
   "cell_type": "markdown",
   "id": "2d2cb76d",
   "metadata": {},
   "source": [
    "#### La función `range()`"
   ]
  },
  {
   "cell_type": "markdown",
   "id": "71afeb21",
   "metadata": {},
   "source": [
    "La función `range()` puede recibir de 1 a 3 argumentos:\n",
    "\n",
    "    range(stop)                  → genera números desde 0 hasta stop-1\n",
    "    range(start, stop)           → genera números desde start hasta stop-1\n",
    "    range(start, stop, step)     → genera números desde start hasta stop-1, aumentando de step en step\n",
    "\n",
    "Notas:\n",
    "- Los argumentos de `range()` deben ser enteros.\n",
    "- Si no se especifica el paso (step), por defecto es 1.\n",
    "- Si el rango está vacío (por ejemplo `range(5, 5)`), el bucle no se ejecuta."
   ]
  },
  {
   "cell_type": "code",
   "execution_count": null,
   "id": "ab722f73",
   "metadata": {},
   "outputs": [],
   "source": [
    "# Ejemplo con 2 argumentos\n",
    "for j in range(5, 30):\n",
    "    print(\"Este ciclo comienza en 5 y llega hasta el 29:\", j)\n",
    "\n",
    "# Ejemplo con 3 argumentos (paso personalizado)\n",
    "for k in range(5, 20, 2):\n",
    "    print(\"Este ciclo comienza en 5 y avanza de 2 en 2 hasta el 19:\", k)"
   ]
  },
  {
   "cell_type": "markdown",
   "id": "0dc1902c",
   "metadata": {},
   "source": [
    "#### Ejemplo: potencias de 2"
   ]
  },
  {
   "cell_type": "code",
   "execution_count": 2,
   "id": "a6c66293",
   "metadata": {},
   "outputs": [
    {
     "name": "stdout",
     "output_type": "stream",
     "text": [
      "2 a la potencia de 0 es 1\n",
      "2 a la potencia de 1 es 2\n",
      "2 a la potencia de 2 es 4\n",
      "2 a la potencia de 3 es 8\n",
      "2 a la potencia de 4 es 16\n",
      "2 a la potencia de 5 es 32\n",
      "2 a la potencia de 6 es 64\n",
      "2 a la potencia de 7 es 128\n",
      "2 a la potencia de 8 es 256\n",
      "2 a la potencia de 9 es 512\n",
      "2 a la potencia de 10 es 1024\n",
      "2 a la potencia de 11 es 2048\n",
      "2 a la potencia de 12 es 4096\n",
      "2 a la potencia de 13 es 8192\n",
      "2 a la potencia de 14 es 16384\n",
      "2 a la potencia de 15 es 32768\n"
     ]
    }
   ],
   "source": [
    "power = 1\n",
    "for expo in range(16):\n",
    "    print(\"2 a la potencia de\", expo, \"es\", power)\n",
    "    power *= 2"
   ]
  },
  {
   "cell_type": "markdown",
   "id": "f1e3698a",
   "metadata": {},
   "source": [
    "#### Sentencias `break` y `continue`"
   ]
  },
  {
   "cell_type": "markdown",
   "id": "38491371",
   "metadata": {},
   "source": [
    "- `break`: interrumpe el bucle por completo.\n",
    "- `continue`: salta la iteración actual y pasa a la siguiente."
   ]
  },
  {
   "cell_type": "code",
   "execution_count": 3,
   "id": "3b7de3ee",
   "metadata": {},
   "outputs": [
    {
     "name": "stdout",
     "output_type": "stream",
     "text": [
      "\n",
      "La instrucción break:\n",
      "Dentro del bucle: 1\n",
      "Dentro del bucle: 2\n",
      "Fuera del bucle.\n"
     ]
    }
   ],
   "source": [
    "# Ejmeplo break.\n",
    "print(\"\\nLa instrucción break:\")\n",
    "for i in range(1, 6):\n",
    "    if i == 3:\n",
    "        break\n",
    "    print(\"Dentro del bucle:\", i)\n",
    "print(\"Fuera del bucle.\")"
   ]
  },
  {
   "cell_type": "code",
   "execution_count": 4,
   "id": "d482cb0d",
   "metadata": {},
   "outputs": [
    {
     "name": "stdout",
     "output_type": "stream",
     "text": [
      "\n",
      "La instrucción continue:\n",
      "Dentro del bucle: 1\n",
      "Dentro del bucle: 2\n",
      "Dentro del bucle: 4\n",
      "Dentro del bucle: 5\n",
      "Fuera del bucle.\n"
     ]
    }
   ],
   "source": [
    "# Ejemplo continue.\n",
    "print(\"\\nLa instrucción continue:\")\n",
    "for i in range(1, 6):\n",
    "    if i == 3:\n",
    "        continue\n",
    "    print(\"Dentro del bucle:\", i)\n",
    "print(\"Fuera del bucle.\")"
   ]
  },
  {
   "cell_type": "markdown",
   "id": "a2084d02",
   "metadata": {},
   "source": [
    "#### Uso de `else` con bucles"
   ]
  },
  {
   "cell_type": "markdown",
   "id": "88eaa03d",
   "metadata": {},
   "source": [
    "Tanto `for` como `while` pueden usar la cláusula `else`.\n",
    "\n",
    "La cláusula `else` se ejecuta **solo si el bucle terminó de manera natural**\n",
    "(es decir, sin que un `break` lo haya interrumpido)."
   ]
  },
  {
   "cell_type": "code",
   "execution_count": 5,
   "id": "e993ab96",
   "metadata": {},
   "outputs": [
    {
     "name": "stdout",
     "output_type": "stream",
     "text": [
      "0\n",
      "1\n",
      "2\n",
      "3\n",
      "4\n",
      "5\n",
      "6\n",
      "7\n",
      "8\n",
      "9\n",
      "else de for: El bucle terminó normalmente. Último valor de i: 9\n"
     ]
    }
   ],
   "source": [
    "# for con else\n",
    "for i in range(10):\n",
    "    print(i)\n",
    "else:\n",
    "    print(\"else de for: El bucle terminó normalmente. Último valor de i:\", i)"
   ]
  },
  {
   "cell_type": "code",
   "execution_count": 6,
   "id": "dd77e90e",
   "metadata": {},
   "outputs": [
    {
     "name": "stdout",
     "output_type": "stream",
     "text": [
      "1\n",
      "2\n",
      "3\n",
      "4\n",
      "else de while: El bucle terminó normalmente. Último valor de i: 5\n"
     ]
    }
   ],
   "source": [
    "# while con else\n",
    "i = 1\n",
    "while i < 5:\n",
    "    print(i)\n",
    "    i += 1\n",
    "else:\n",
    "    print(\"else de while: El bucle terminó normalmente. Último valor de i:\", i)"
   ]
  }
 ],
 "metadata": {
  "kernelspec": {
   "display_name": "journey_venv",
   "language": "python",
   "name": "python3"
  },
  "language_info": {
   "codemirror_mode": {
    "name": "ipython",
    "version": 3
   },
   "file_extension": ".py",
   "mimetype": "text/x-python",
   "name": "python",
   "nbconvert_exporter": "python",
   "pygments_lexer": "ipython3",
   "version": "3.12.0"
  }
 },
 "nbformat": 4,
 "nbformat_minor": 5
}
