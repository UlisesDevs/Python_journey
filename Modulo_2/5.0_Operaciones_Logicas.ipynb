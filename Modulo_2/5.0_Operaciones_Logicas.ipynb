{
 "cells": [
  {
   "cell_type": "markdown",
   "id": "ddd71c26",
   "metadata": {},
   "source": [
    "## Operadores lógicos"
   ]
  },
  {
   "cell_type": "markdown",
   "id": "4ee3900a",
   "metadata": {},
   "source": [
    "Python cuenta con tres operadores lógicos principales: `and`, `or` y `not`.  \n",
    "Se utilizan para combinar condiciones booleanas (`True` / `False`)."
   ]
  },
  {
   "cell_type": "markdown",
   "id": "82a00f01",
   "metadata": {},
   "source": [
    "#### Operador `and`"
   ]
  },
  {
   "cell_type": "markdown",
   "id": "92c0ddac",
   "metadata": {},
   "source": [
    "- También llamado **operador de conjunción**.\n",
    "- La condición solo se cumple si **ambas declaraciones son verdaderas**.\n",
    "\n",
    "Ejemplo en lenguaje natural:\n",
    "\n",
    "    \"Si tenemos tiempo libre y hay buen clima, saldremos a caminar.\"\n",
    "\n",
    "Tabla de verdad del operador `and`:\n",
    "\n",
    "    False and False = False\n",
    "    False and True  = False\n",
    "    True  and False = False\n",
    "    True  and True  = True"
   ]
  },
  {
   "cell_type": "markdown",
   "id": "73f35e8c",
   "metadata": {},
   "source": [
    "#### Operador `or`"
   ]
  },
  {
   "cell_type": "markdown",
   "id": "d88a89ac",
   "metadata": {},
   "source": [
    "- También llamado **operador de disyunción**.\n",
    "- La condición se cumple si **al menos una declaración es verdadera**.\n",
    "\n",
    "Ejemplo en lenguaje natural:\n",
    "\n",
    "    \"Si tú estás en la pizzería o si yo estoy en la pizzería,\n",
    "    entonces uno de los dos compra la pizza.\"\n",
    "\n",
    "Tabla de verdad del operador `or`:\n",
    "\n",
    "    False or False = False\n",
    "    False or True  = True\n",
    "    True  or False = True\n",
    "    True  or True  = True"
   ]
  },
  {
   "cell_type": "markdown",
   "id": "4b926a4a",
   "metadata": {},
   "source": [
    "#### Operador `not`"
   ]
  },
  {
   "cell_type": "markdown",
   "id": "aed2337d",
   "metadata": {},
   "source": [
    "- Niega (invierte) el valor lógico.\n",
    "- Si es True lo convierte en False, y viceversa.\n",
    "\n",
    "Tabla de verdad del operador `not`:\n",
    "\n",
    "    not True  = False\n",
    "    not False = True"
   ]
  },
  {
   "cell_type": "markdown",
   "id": "7e31adc4",
   "metadata": {},
   "source": [
    "#### Operadores bit a bit (bitwise)"
   ]
  },
  {
   "cell_type": "markdown",
   "id": "aaf82e71",
   "metadata": {},
   "source": [
    "Hasta ahora trabajamos con valores lógicos (`True` y `False`).  \n",
    "Pero también podemos operar directamente **bit a bit** sobre números enteros.\n",
    "\n",
    "Recordemos:\n",
    "- Un bit es un dígito binario: 0 o 1.\n",
    "- Un byte está compuesto de 8 bits.\n",
    "\n",
    "Tabla de posiciones para un byte:\n",
    "\n",
    "    128  64  32  16   8   4   2   1\n",
    "\n",
    "Ejemplo:\n",
    "\n",
    "    El número 1 en binario:\n",
    "        00000001\n",
    "\n",
    "    El número 2 en binario:\n",
    "        00000010\n",
    "\n",
    "    El número 3 en binario:\n",
    "        00000011   (porque 2 + 1)"
   ]
  },
  {
   "cell_type": "markdown",
   "id": "b6e8f472",
   "metadata": {},
   "source": [
    "#### Operadores bit a bit disponibles en Python"
   ]
  },
  {
   "cell_type": "markdown",
   "id": "e8f805c8",
   "metadata": {},
   "source": [
    "    &   → AND bit a bit:\n",
    "    |   → OR bit a bit\n",
    "    ~   → NOT bit a bit (complemento)\n",
    "    ^   → XOR bit a bit (OR exclusivo)\n",
    "\n",
    "Tablas de verdad:\n",
    "\n",
    "AND (&):\n",
    "\n",
    "    0 & 0 = 0\n",
    "    0 & 1 = 0\n",
    "    1 & 0 = 0\n",
    "    1 & 1 = 1   (similar a multiplicar bits)\n",
    "\n",
    "OR (|):\n",
    "\n",
    "    0 | 0 = 0\n",
    "    0 | 1 = 1\n",
    "    1 | 0 = 1\n",
    "    1 | 1 = 1\n",
    "\n",
    "XOR (^):\n",
    "\n",
    "    0 ^ 0 = 0\n",
    "    0 ^ 1 = 1\n",
    "    1 ^ 0 = 1\n",
    "    1 ^ 1 = 0\n",
    "\n",
    "NOT (~):\n",
    "\n",
    "    ~0 = 1\n",
    "    ~1 = 0\n"
   ]
  },
  {
   "cell_type": "markdown",
   "id": "96456b97",
   "metadata": {},
   "source": [
    "#### Ejemplos prácticos con números binarios"
   ]
  },
  {
   "cell_type": "markdown",
   "id": "9ff4bd05",
   "metadata": {},
   "source": [
    "En Python, los binarios se representan con el prefijo 0b."
   ]
  },
  {
   "cell_type": "code",
   "execution_count": 1,
   "id": "cd4b7d2e",
   "metadata": {},
   "outputs": [
    {
     "name": "stdout",
     "output_type": "stream",
     "text": [
      "1 en binario es: 0b1\n"
     ]
    }
   ],
   "source": [
    "uno = 0b1\n",
    "print(uno, \"en binario es: 0b1\")"
   ]
  },
  {
   "cell_type": "code",
   "execution_count": 3,
   "id": "c1e58388",
   "metadata": {},
   "outputs": [
    {
     "name": "stdout",
     "output_type": "stream",
     "text": [
      "NOT bit a bit\n",
      "~a = -46\n",
      "~b = -51\n"
     ]
    }
   ],
   "source": [
    "# Declaramos variables binarias (45 y 50)\n",
    "a = 0b101101   # 45 en decimal\n",
    "b = 0b110010   # 50 en decimal\n",
    "\n",
    "# NOT\n",
    "print(\"NOT bit a bit\")\n",
    "print(\"~a =\", ~a)\n",
    "print(\"~b =\", ~b)"
   ]
  },
  {
   "cell_type": "code",
   "execution_count": null,
   "id": "15c9c1cf",
   "metadata": {},
   "outputs": [
    {
     "name": "stdout",
     "output_type": "stream",
     "text": [
      "\n",
      "AND bit a bit\n",
      "a & b = 32\n"
     ]
    }
   ],
   "source": [
    "# Declaramos variables binarias (45 y 50)\n",
    "a = 0b101101   # 45 en decimal\n",
    "b = 0b110010   # 50 en decimal\n",
    "\n",
    "# AND\n",
    "print(\"AND bit a bit\")\n",
    "print(\"a & b =\", a & b)"
   ]
  },
  {
   "cell_type": "code",
   "execution_count": null,
   "id": "76b333ad",
   "metadata": {},
   "outputs": [
    {
     "name": "stdout",
     "output_type": "stream",
     "text": [
      "\n",
      "OR bit a bit\n",
      "a | b = 63\n"
     ]
    }
   ],
   "source": [
    "# Declaramos variables binarias (45 y 50)\n",
    "a = 0b101101   # 45 en decimal\n",
    "b = 0b110010   # 50 en decimal\n",
    "\n",
    "# OR\n",
    "print(\"OR bit a bit\")\n",
    "print(\"a | b =\", a | b)"
   ]
  },
  {
   "cell_type": "code",
   "execution_count": null,
   "id": "cad9a589",
   "metadata": {},
   "outputs": [
    {
     "name": "stdout",
     "output_type": "stream",
     "text": [
      "\n",
      "XOR bit a bit\n",
      "a ^ b = 31\n"
     ]
    }
   ],
   "source": [
    "# Declaramos variables binarias (45 y 50)\n",
    "a = 0b101101   # 45 en decimal\n",
    "b = 0b110010   # 50 en decimal\n",
    "\n",
    "# XOR\n",
    "print(\"XOR bit a bit\")\n",
    "print(\"a ^ b =\", a ^ b)"
   ]
  },
  {
   "cell_type": "markdown",
   "id": "aefcaba7",
   "metadata": {},
   "source": [
    "#### Desplazamiento de bits"
   ]
  },
  {
   "cell_type": "markdown",
   "id": "ce6659a3",
   "metadata": {},
   "source": [
    "Podemos desplazar los bits hacia la derecha o izquierda.\n",
    "\n",
    "    >>  desplaza a la derecha\n",
    "    <<  desplaza a la izquierda\n",
    "\n",
    "Ejemplo con 45 (a):\n",
    "\n",
    "Representación: 00101101 (45 en binario)\n",
    "\n",
    "    45 >> 2 → desplaza 2 posiciones a la derecha → 00001011 = 11\n",
    "    45 << 2 → desplaza 2 posiciones a la izquierda → 10110100 = 180\n"
   ]
  },
  {
   "cell_type": "code",
   "execution_count": 7,
   "id": "f4a51d8d",
   "metadata": {},
   "outputs": [
    {
     "name": "stdout",
     "output_type": "stream",
     "text": [
      "Desplazamientos:\n",
      "a >> 2 = 11\n",
      "b << 2 = 200\n"
     ]
    }
   ],
   "source": [
    "print(\"Desplazamientos:\")\n",
    "print(\"a >> 2 =\", a >> 2)\n",
    "print(\"b << 2 =\", b << 2)"
   ]
  },
  {
   "cell_type": "markdown",
   "id": "d35db7cb",
   "metadata": {},
   "source": [
    "#### Asignación con operadores bit a bit"
   ]
  },
  {
   "cell_type": "markdown",
   "id": "a0aa29ff",
   "metadata": {},
   "source": [
    "Al igual que con operadores aritméticos, podemos abreviar:\n",
    "\n",
    "    &=   → a = a & b\n",
    "    |=   → a = a | b\n",
    "    ^=   → a = a ^ b\n",
    "    >>=  → a = a >> n\n",
    "    <<=  → a = a << n"
   ]
  },
  {
   "cell_type": "code",
   "execution_count": 8,
   "id": "be502371",
   "metadata": {},
   "outputs": [
    {
     "name": "stdout",
     "output_type": "stream",
     "text": [
      "a &= b → 32\n"
     ]
    }
   ],
   "source": [
    "a = 0b101101\n",
    "b = 0b110010\n",
    "a &= b\n",
    "print(\"a &= b →\", a)"
   ]
  },
  {
   "cell_type": "code",
   "execution_count": 9,
   "id": "fc973de8",
   "metadata": {},
   "outputs": [
    {
     "name": "stdout",
     "output_type": "stream",
     "text": [
      "a |= b → 63\n"
     ]
    }
   ],
   "source": [
    "a = 0b101101\n",
    "b = 0b110010\n",
    "a |= b\n",
    "print(\"a |= b →\", a)"
   ]
  },
  {
   "cell_type": "code",
   "execution_count": 10,
   "id": "b0d38a17",
   "metadata": {},
   "outputs": [
    {
     "name": "stdout",
     "output_type": "stream",
     "text": [
      "a ^= b → 31\n"
     ]
    }
   ],
   "source": [
    "a = 0b101101\n",
    "b = 0b110010\n",
    "a ^= b\n",
    "print(\"a ^= b →\", a)"
   ]
  },
  {
   "cell_type": "code",
   "execution_count": 11,
   "id": "69850b8a",
   "metadata": {},
   "outputs": [
    {
     "name": "stdout",
     "output_type": "stream",
     "text": [
      "a >>= 2 → 11\n",
      "b <<= 2 → 200\n"
     ]
    }
   ],
   "source": [
    "a = 0b101101\n",
    "b = 0b110010\n",
    "a >>= 2\n",
    "b <<= 2\n",
    "print(\"a >>= 2 →\", a)\n",
    "print(\"b <<= 2 →\", b)"
   ]
  },
  {
   "cell_type": "markdown",
   "id": "ace62ebc",
   "metadata": {},
   "source": [
    "#### Precedencia de operadores (actualizada con bit a bit)"
   ]
  },
  {
   "cell_type": "markdown",
   "id": "5ff51361",
   "metadata": {},
   "source": [
    "Tabla de jerarquía de operadores en Python (de mayor a menor prioridad):\n",
    "\n",
    "1.  `~`, `+`, `-` (unario)\n",
    "2.  `**`\n",
    "3.  `*`, `/`, `//`, `%`\n",
    "4.  `+`, `-` (binario)\n",
    "5.  `<<`, `>>`\n",
    "6.  `<`, `<=`, `>=`, `>`\n",
    "7.  `==`, `!=`\n",
    "8.  `&`\n",
    "9.  `|`\n",
    "10. `=`, `+=`, `-=`, `*=`, `/=`, `%=`, `&=`, `^=`, `|=`, `>>=`, `<<=`"
   ]
  }
 ],
 "metadata": {
  "kernelspec": {
   "display_name": "journey_venv",
   "language": "python",
   "name": "python3"
  },
  "language_info": {
   "codemirror_mode": {
    "name": "ipython",
    "version": 3
   },
   "file_extension": ".py",
   "mimetype": "text/x-python",
   "name": "python",
   "nbconvert_exporter": "python",
   "pygments_lexer": "ipython3",
   "version": "3.12.0"
  }
 },
 "nbformat": 4,
 "nbformat_minor": 5
}
